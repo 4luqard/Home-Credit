{
 "cells": [
  {
   "cell_type": "code",
   "execution_count": 1,
   "id": "666c973c",
   "metadata": {
    "execution": {
     "iopub.execute_input": "2024-05-14T11:21:37.211118Z",
     "iopub.status.busy": "2024-05-14T11:21:37.210658Z",
     "iopub.status.idle": "2024-05-14T11:21:42.594532Z",
     "shell.execute_reply": "2024-05-14T11:21:42.593100Z"
    },
    "papermill": {
     "duration": 5.39714,
     "end_time": "2024-05-14T11:21:42.597557",
     "exception": false,
     "start_time": "2024-05-14T11:21:37.200417",
     "status": "completed"
    },
    "tags": []
   },
   "outputs": [],
   "source": [
    "import pandas as pd\n",
    "import numpy as np\n",
    "import warnings\n",
    "\n",
    "import statsmodels.api as sm\n",
    "\n",
    "from sklearn.impute import SimpleImputer\n",
    "from sklearn.metrics import mean_squared_error\n",
    "from sklearn.preprocessing import PolynomialFeatures\n",
    "\n",
    "pd.set_option('display.max_columns', None)\n",
    "#pd.set_option('display.max_rows', None)\n",
    "#pd.options.display.float_format = '{:.2f}'.format\n",
    "def ignore_warn(*args, **kwargs):\n",
    "    pass\n",
    "warnings.warn = ignore_warn\n",
    "\n",
    "data = '/kaggle/input/home-credit-credit-risk-model-stability/csv_files/'"
   ]
  },
  {
   "cell_type": "code",
   "execution_count": 2,
   "id": "d2991c33",
   "metadata": {
    "execution": {
     "iopub.execute_input": "2024-05-14T11:21:42.615976Z",
     "iopub.status.busy": "2024-05-14T11:21:42.615196Z",
     "iopub.status.idle": "2024-05-14T11:21:42.631374Z",
     "shell.execute_reply": "2024-05-14T11:21:42.629952Z"
    },
    "papermill": {
     "duration": 0.028682,
     "end_time": "2024-05-14T11:21:42.634248",
     "exception": false,
     "start_time": "2024-05-14T11:21:42.605566",
     "status": "completed"
    },
    "tags": []
   },
   "outputs": [],
   "source": [
    "def reduce_mem_usage(df, verbose=True):\n",
    "    numerics = ['int16', 'int32', 'int64',\n",
    "                'float16', 'float32', 'float64']\n",
    "    start_mem = df.memory_usage().sum() / 1024**2\n",
    "    for col in df.columns:\n",
    "        col_type = df[col].dtypes\n",
    "        if col_type in numerics:\n",
    "            c_min = df[col].min()\n",
    "            c_max = df[col].max()\n",
    "            if str(col_type)[:3] == 'int':\n",
    "                if c_min > np.iinfo(np.int8).min and c_max < np.iinfo(np.int8).max:\n",
    "                    df[col] = df[col].astype(np.int8)\n",
    "                elif c_min > np.iinfo(np.int16).min and c_max < np.iinfo(np.int16).max:\n",
    "                    df[col] = df[col].astype(np.int16)\n",
    "                elif c_min > np.iinfo(np.int32).min and c_max < np.iinfo(np.int32).max:\n",
    "                    df[col] = df[col].astype(np.int32)\n",
    "                elif c_min > np.iinfo(np.int64).min and c_max < np.iinfo(np.int64).max:\n",
    "                    df[col] = df[col].astype(np.int64)\n",
    "                else:\n",
    "                    if c_min > np.finfo(np.float32).min and c_max < np.finfo(np.float32).max:\n",
    "                        df[col] = df[col].astype(np.float32)\n",
    "                    else:\n",
    "                        df[col] = df[col].astype(np.float64)\n",
    "    end_mem = df.memory_usage().sum() / 1024**2\n",
    "    if verbose: print('Mem. usage decreased to {:5.2f} Mb ({:.1f}% reduction)'\n",
    "                      .format(end_mem, 100 * (start_mem - end_mem) / start_mem))\n",
    "    return df"
   ]
  },
  {
   "cell_type": "code",
   "execution_count": 3,
   "id": "bb5cf0fc",
   "metadata": {
    "execution": {
     "iopub.execute_input": "2024-05-14T11:21:42.652545Z",
     "iopub.status.busy": "2024-05-14T11:21:42.652127Z",
     "iopub.status.idle": "2024-05-14T11:21:42.658508Z",
     "shell.execute_reply": "2024-05-14T11:21:42.657259Z"
    },
    "papermill": {
     "duration": 0.018548,
     "end_time": "2024-05-14T11:21:42.661241",
     "exception": false,
     "start_time": "2024-05-14T11:21:42.642693",
     "status": "completed"
    },
    "tags": []
   },
   "outputs": [],
   "source": [
    "def set_table_dtypes(df: pd.DataFrame) -> pd.DataFrame:\n",
    "    for col in df.columns:\n",
    "        # Last letter of column name will help you determine the type\n",
    "        if col[-1] in (\"P\", \"A\"):\n",
    "            df[col] = df[col].astype(float)\n",
    "    return df"
   ]
  },
  {
   "cell_type": "code",
   "execution_count": 4,
   "id": "3ffc2e7f",
   "metadata": {
    "execution": {
     "iopub.execute_input": "2024-05-14T11:21:42.677881Z",
     "iopub.status.busy": "2024-05-14T11:21:42.677499Z",
     "iopub.status.idle": "2024-05-14T11:21:42.685212Z",
     "shell.execute_reply": "2024-05-14T11:21:42.683916Z"
    },
    "papermill": {
     "duration": 0.018774,
     "end_time": "2024-05-14T11:21:42.687566",
     "exception": false,
     "start_time": "2024-05-14T11:21:42.668792",
     "status": "completed"
    },
    "tags": []
   },
   "outputs": [],
   "source": [
    "def convert_strings(df: pd.DataFrame) -> pd.DataFrame:\n",
    "    for col in df.columns:\n",
    "        # Check if the column's data type is 'object' or 'string'\n",
    "        if df[col].dtype == 'object' or df[col].dtype == 'string':\n",
    "            # Convert column to 'category' data type\n",
    "            df[col] = df[col].astype('category')\n",
    "            # Get current categories and add 'Unknown'\n",
    "            new_categories = df[col].cat.categories.tolist() + ['Unknown']\n",
    "            # Define new categorical data type with 'Unknown'\n",
    "            df[col] = df[col].cat.set_categories(new_categories, ordered=True)\n",
    "    return df"
   ]
  },
  {
   "cell_type": "code",
   "execution_count": 5,
   "id": "f4a2a1b3",
   "metadata": {
    "execution": {
     "iopub.execute_input": "2024-05-14T11:21:42.704819Z",
     "iopub.status.busy": "2024-05-14T11:21:42.703997Z",
     "iopub.status.idle": "2024-05-14T11:21:42.710853Z",
     "shell.execute_reply": "2024-05-14T11:21:42.709630Z"
    },
    "papermill": {
     "duration": 0.018339,
     "end_time": "2024-05-14T11:21:42.713383",
     "exception": false,
     "start_time": "2024-05-14T11:21:42.695044",
     "status": "completed"
    },
    "tags": []
   },
   "outputs": [],
   "source": [
    "def preprocess_data(data, imputer):\n",
    "    data = imputer.transform(data)\n",
    "    return data"
   ]
  },
  {
   "cell_type": "code",
   "execution_count": 6,
   "id": "b46773fb",
   "metadata": {
    "execution": {
     "iopub.execute_input": "2024-05-14T11:21:42.729927Z",
     "iopub.status.busy": "2024-05-14T11:21:42.729524Z",
     "iopub.status.idle": "2024-05-14T11:21:42.735791Z",
     "shell.execute_reply": "2024-05-14T11:21:42.734492Z"
    },
    "papermill": {
     "duration": 0.017524,
     "end_time": "2024-05-14T11:21:42.738261",
     "exception": false,
     "start_time": "2024-05-14T11:21:42.720737",
     "status": "completed"
    },
    "tags": []
   },
   "outputs": [],
   "source": [
    "def train_model_statsmodels(X, y):\n",
    "    X = sm.add_constant(X)\n",
    "    model = sm.OLS(y, X).fit(cov_type='HC0')\n",
    "    return model"
   ]
  },
  {
   "cell_type": "code",
   "execution_count": 7,
   "id": "398da746",
   "metadata": {
    "execution": {
     "iopub.execute_input": "2024-05-14T11:21:42.755668Z",
     "iopub.status.busy": "2024-05-14T11:21:42.755285Z",
     "iopub.status.idle": "2024-05-14T11:21:42.761787Z",
     "shell.execute_reply": "2024-05-14T11:21:42.760886Z"
    },
    "papermill": {
     "duration": 0.018121,
     "end_time": "2024-05-14T11:21:42.764207",
     "exception": false,
     "start_time": "2024-05-14T11:21:42.746086",
     "status": "completed"
    },
    "tags": []
   },
   "outputs": [],
   "source": [
    "def create_k_folds(df, fold_n=5):\n",
    "    folds = {}\n",
    "    fold_size = len(df) // fold_n\n",
    "    for i in range(fold_n):\n",
    "        start = i * fold_size\n",
    "        if i == fold_n - 1:  # In the last fold, include all remaining data\n",
    "            end = len(df)\n",
    "        else:\n",
    "            end = start + fold_size\n",
    "        folds[i] = df[start:end]\n",
    "    return folds"
   ]
  },
  {
   "cell_type": "code",
   "execution_count": 8,
   "id": "90f78aa6",
   "metadata": {
    "execution": {
     "iopub.execute_input": "2024-05-14T11:21:42.781040Z",
     "iopub.status.busy": "2024-05-14T11:21:42.780652Z",
     "iopub.status.idle": "2024-05-14T11:21:42.786373Z",
     "shell.execute_reply": "2024-05-14T11:21:42.785184Z"
    },
    "papermill": {
     "duration": 0.017154,
     "end_time": "2024-05-14T11:21:42.788840",
     "exception": false,
     "start_time": "2024-05-14T11:21:42.771686",
     "status": "completed"
    },
    "tags": []
   },
   "outputs": [],
   "source": [
    "def find_index(lst, target):\n",
    "    for i, number in enumerate(lst):\n",
    "        if number == target:\n",
    "            return i\n",
    "    return None"
   ]
  },
  {
   "cell_type": "code",
   "execution_count": 9,
   "id": "22fbde75",
   "metadata": {
    "execution": {
     "iopub.execute_input": "2024-05-14T11:21:42.806312Z",
     "iopub.status.busy": "2024-05-14T11:21:42.805887Z",
     "iopub.status.idle": "2024-05-14T11:21:42.819596Z",
     "shell.execute_reply": "2024-05-14T11:21:42.818253Z"
    },
    "papermill": {
     "duration": 0.02588,
     "end_time": "2024-05-14T11:21:42.822374",
     "exception": false,
     "start_time": "2024-05-14T11:21:42.796494",
     "status": "completed"
    },
    "tags": []
   },
   "outputs": [],
   "source": [
    "def train_final_model(folds_X, folds_y):\n",
    "    cv_amount = len(folds_X)\n",
    "    models, rmse_scores, predictions = {}, {}, {}\n",
    "    rmse_total = 0\n",
    "    \n",
    "    for i in range(cv_amount):\n",
    "        test_X, test_y = folds_X[i], folds_y[i]\n",
    "        train_X = np.concatenate([folds_X[n] for n in range(len(folds_X)) if n != i])\n",
    "        train_y = np.concatenate([folds_y[n] for n in range(len(folds_y)) if n != i])\n",
    "\n",
    "        models['model_{}'.format(i)] = train_model_statsmodels(train_X, train_y)\n",
    "        test_X = sm.add_constant(test_X, has_constant='add')\n",
    "        y_pred = models['model_{}'.format(i)].predict(test_X)\n",
    "        predictions[i] = y_pred\n",
    "        \n",
    "        rmse_scores[i] = mean_squared_error(np.log1p(test_y), np.log1p(y_pred), squared=False)\n",
    "        rmse_total += rmse_scores[i]\n",
    "\n",
    "    # Final model and the final model's score\n",
    "    rmse_average = rmse_total / cv_amount\n",
    "    rmse_list = []\n",
    "    for i in range(len(rmse_scores)):\n",
    "        rmse_list.append(rmse_scores[i])\n",
    "    max_rmse = max(rmse_list)\n",
    "    min_rmse = min(rmse_list)\n",
    "    index_max_rmse = find_index(rmse_list, max_rmse)\n",
    "    index_min_rmse = find_index(rmse_list, min_rmse)\n",
    "    final_model = models['model_{}'.format(index_max_rmse)]\n",
    "    display(final_model.summary())\n",
    "    \n",
    "    # Residual analysis\n",
    "    #residuals_cv = np.expm1(folds_y[index_min_r2]) - predictions[index_min_r2]\n",
    "    #plot_residuals(residuals_cv, predictions[index_min_r2])\n",
    "    #normality(residuals_cv)\n",
    "    #print(residuals_cv.sort_values())\n",
    "    print(\"-----------------------------------------------------------------------------\")\n",
    "    print(\"All RMSE score:  \", rmse_scores)\n",
    "    print(\"Max RMSE score:  \", rmse_scores[index_max_rmse], index_max_rmse)\n",
    "    print(\"Min RMSE score:  \", rmse_scores[index_min_rmse], index_min_rmse)\n",
    "    print(\"Average RMSE score:  \", rmse_average)\n",
    "    return final_model, rmse_average"
   ]
  },
  {
   "cell_type": "code",
   "execution_count": 10,
   "id": "4f6b4742",
   "metadata": {
    "execution": {
     "iopub.execute_input": "2024-05-14T11:21:42.839829Z",
     "iopub.status.busy": "2024-05-14T11:21:42.838915Z",
     "iopub.status.idle": "2024-05-14T11:21:42.854576Z",
     "shell.execute_reply": "2024-05-14T11:21:42.853259Z"
    },
    "papermill": {
     "duration": 0.027535,
     "end_time": "2024-05-14T11:21:42.857337",
     "exception": false,
     "start_time": "2024-05-14T11:21:42.829802",
     "status": "completed"
    },
    "tags": []
   },
   "outputs": [],
   "source": [
    "def cyclic_features(df, df_):\n",
    "    df['date_decision'] = pd.to_datetime(df['date_decision'])\n",
    "    \n",
    "    days_in_year = 365.25\n",
    "    df['day_of_year'] = df['date_decision'].dt.dayofyear\n",
    "    df['year_sin'] = np.sin(2 * np.pi * df['day_of_year'] / days_in_year)\n",
    "    df['year_cos'] = np.cos(2 * np.pi * df['day_of_year'] / days_in_year)\n",
    "    \n",
    "    days_in_month = 30.437\n",
    "    df['day_of_month'] = df['date_decision'].dt.day\n",
    "    df['month_sin'] = np.sin(2 * np.pi * df['day_of_month'] / days_in_month)\n",
    "    df['month_cos'] = np.cos(2 * np.pi * df['day_of_month'] / days_in_month)\n",
    "    \n",
    "    days_in_week = 7\n",
    "    df['day_of_week'] = df['date_decision'].dt.dayofweek\n",
    "    df['week_sin'] = np.sin(2 * np.pi * df['day_of_week'] / days_in_week)\n",
    "    df['week_cos'] = np.cos(2 * np.pi * df['day_of_week'] / days_in_week)\n",
    "    \n",
    "\n",
    "    df_['date_decision'] = pd.to_datetime(df_['date_decision'])\n",
    "    \n",
    "    days_in_year = 365.25\n",
    "    df_['day_of_year'] = df_['date_decision'].dt.dayofyear\n",
    "    df_['year_sin'] = np.sin(2 * np.pi * df_['day_of_year'] / days_in_year)\n",
    "    df_['year_cos'] = np.cos(2 * np.pi * df_['day_of_year'] / days_in_year)\n",
    "    \n",
    "    days_in_month = 30.437\n",
    "    df_['day_of_month'] = df_['date_decision'].dt.day\n",
    "    df_['month_sin'] = np.sin(2 * np.pi * df_['day_of_month'] / days_in_month)\n",
    "    df_['month_cos'] = np.cos(2 * np.pi * df_['day_of_month'] / days_in_month)\n",
    "    \n",
    "    days_in_week = 7\n",
    "    df_['day_of_week'] = df_['date_decision'].dt.dayofweek\n",
    "    df_['week_sin'] = np.sin(2 * np.pi * df_['day_of_week'] / days_in_week)\n",
    "    df_['week_cos'] = np.cos(2 * np.pi * df_['day_of_week'] / days_in_week)\n",
    "    return df, df_"
   ]
  },
  {
   "cell_type": "code",
   "execution_count": 11,
   "id": "2fb4ba5e",
   "metadata": {
    "execution": {
     "iopub.execute_input": "2024-05-14T11:21:42.874570Z",
     "iopub.status.busy": "2024-05-14T11:21:42.874180Z",
     "iopub.status.idle": "2024-05-14T11:23:26.829961Z",
     "shell.execute_reply": "2024-05-14T11:23:26.828292Z"
    },
    "papermill": {
     "duration": 103.968413,
     "end_time": "2024-05-14T11:23:26.833282",
     "exception": false,
     "start_time": "2024-05-14T11:21:42.864869",
     "status": "completed"
    },
    "tags": []
   },
   "outputs": [
    {
     "name": "stdout",
     "output_type": "stream",
     "text": [
      "Mem. usage decreased to 26.21 Mb (55.0% reduction)\n",
      "Mem. usage decreased to 1952.41 Mb (0.3% reduction)\n",
      "Mem. usage decreased to 601.01 Mb (0.9% reduction)\n",
      "Mem. usage decreased to 808.32 Mb (3.7% reduction)\n",
      "Mem. usage decreased to 36.81 Mb (37.5% reduction)\n"
     ]
    }
   ],
   "source": [
    "train_basetable = reduce_mem_usage(pd.read_csv(data + \"train/train_base.csv\"))\n",
    "train_static = reduce_mem_usage(pd.concat(\n",
    "    [\n",
    "        set_table_dtypes(pd.read_csv(data + \"train/train_static_0_0.csv\")),\n",
    "        set_table_dtypes(pd.read_csv(data + \"train/train_static_0_1.csv\"))\n",
    "    ],\n",
    "    axis=0\n",
    "))\n",
    "train_static_cb = reduce_mem_usage(set_table_dtypes(pd.read_csv(data + \"train/train_static_cb_0.csv\")))\n",
    "train_person_1 = reduce_mem_usage(set_table_dtypes(pd.read_csv(data + \"train/train_person_1.csv\")))\n",
    "train_credit_bureau_b_2 = reduce_mem_usage(set_table_dtypes(pd.read_csv(data + \"train/train_credit_bureau_b_2.csv\")))"
   ]
  },
  {
   "cell_type": "code",
   "execution_count": 12,
   "id": "7daf5c94",
   "metadata": {
    "execution": {
     "iopub.execute_input": "2024-05-14T11:23:26.851968Z",
     "iopub.status.busy": "2024-05-14T11:23:26.851524Z",
     "iopub.status.idle": "2024-05-14T11:23:27.014018Z",
     "shell.execute_reply": "2024-05-14T11:23:27.012452Z"
    },
    "papermill": {
     "duration": 0.175841,
     "end_time": "2024-05-14T11:23:27.017534",
     "exception": false,
     "start_time": "2024-05-14T11:23:26.841693",
     "status": "completed"
    },
    "tags": []
   },
   "outputs": [
    {
     "name": "stdout",
     "output_type": "stream",
     "text": [
      "Mem. usage decreased to  0.00 Mb (33.5% reduction)\n",
      "Mem. usage decreased to  0.03 Mb (0.3% reduction)\n",
      "Mem. usage decreased to  0.00 Mb (0.9% reduction)\n",
      "Mem. usage decreased to  0.00 Mb (3.6% reduction)\n",
      "Mem. usage decreased to  0.00 Mb (29.6% reduction)\n"
     ]
    }
   ],
   "source": [
    "test_basetable = reduce_mem_usage(pd.read_csv(data + \"test/test_base.csv\"))\n",
    "test_static = reduce_mem_usage(pd.concat(\n",
    "    [\n",
    "        set_table_dtypes(pd.read_csv(data + \"test/test_static_0_0.csv\")),\n",
    "        set_table_dtypes(pd.read_csv(data + \"test/test_static_0_1.csv\"))\n",
    "    ],\n",
    "    axis=0\n",
    "))\n",
    "test_static_cb = reduce_mem_usage(set_table_dtypes(pd.read_csv(data + \"test/test_static_cb_0.csv\")))\n",
    "test_person_1 = reduce_mem_usage(set_table_dtypes(pd.read_csv(data + \"test/test_person_1.csv\")))\n",
    "test_credit_bureau_b_2 = reduce_mem_usage(set_table_dtypes(pd.read_csv(data + \"test/test_credit_bureau_b_2.csv\")))"
   ]
  },
  {
   "cell_type": "code",
   "execution_count": 13,
   "id": "b47ecd66",
   "metadata": {
    "execution": {
     "iopub.execute_input": "2024-05-14T11:23:27.037807Z",
     "iopub.status.busy": "2024-05-14T11:23:27.037355Z",
     "iopub.status.idle": "2024-05-14T11:27:17.229341Z",
     "shell.execute_reply": "2024-05-14T11:27:17.227671Z"
    },
    "papermill": {
     "duration": 230.207081,
     "end_time": "2024-05-14T11:27:17.233582",
     "exception": false,
     "start_time": "2024-05-14T11:23:27.026501",
     "status": "completed"
    },
    "tags": []
   },
   "outputs": [
    {
     "name": "stdout",
     "output_type": "stream",
     "text": [
      "['amtinstpaidbefduel24m_4187115A', 'annuity_780A', 'annuitynextmonth_57A', 'avginstallast24m_3658937A', 'avglnamtstart24m_4525187A', 'avgoutstandbalancel6m_4187114A', 'avgpmtlast12m_4525200A', 'credamount_770A', 'currdebt_22A', 'currdebtcredtyperange_828A', 'disbursedcredamount_1113A', 'downpmt_116A', 'inittransactionamount_650A', 'lastapprcommoditycat_1041M', 'lastapprcommoditytypec_5251766M', 'lastapprcredamount_781A', 'lastcancelreason_561M', 'lastotherinc_902A', 'lastotherlnsexpense_631A', 'lastrejectcommoditycat_161M', 'lastrejectcommodtypec_5251769M', 'lastrejectcredamount_222A', 'lastrejectreason_759M', 'lastrejectreasonclient_4145040M', 'maininc_215A', 'maxannuity_159A', 'maxannuity_4075009A', 'maxdebt4_972A', 'maxinstallast24m_3658928A', 'maxlnamtstart6m_4525199A', 'maxoutstandbalancel12m_4187113A', 'maxpmtlast3m_4525190A', 'previouscontdistrict_112M', 'price_1097A', 'sumoutstandtotal_3546847A', 'sumoutstandtotalest_4493215A', 'totaldebt_9A', 'totalsettled_863A', 'totinstallast1m_4525188A']\n",
      "['description_5085714M', 'education_1103M', 'education_88M', 'maritalst_385M', 'maritalst_893M', 'pmtaverage_3A', 'pmtaverage_4527227A', 'pmtaverage_4955615A', 'pmtssum_45A']\n",
      "Mem. usage decreased to 633.33 Mb (0.0% reduction)\n"
     ]
    }
   ],
   "source": [
    "# Aggregation in pandas for train_person_1\n",
    "train_person_1_feats_1 = train_person_1.groupby('case_id').agg(\n",
    "    mainoccupationinc_384A_max=('mainoccupationinc_384A', 'max'),\n",
    "    mainoccupationinc_384A_any_selfemployed=('incometype_1044T', lambda x: (x == 'SELFEMPLOYED').max())\n",
    ").reset_index()\n",
    "\n",
    "# Filtering and renaming in pandas for train_person_1\n",
    "train_person_1_feats_2 = train_person_1.loc[train_person_1['num_group1'] == 0, ['case_id', 'housetype_905L']]\n",
    "train_person_1_feats_2 = train_person_1_feats_2.rename(columns={'housetype_905L': 'person_housetype'})\n",
    "\n",
    "# Aggregation in pandas for train_credit_bureau_b_2\n",
    "train_credit_bureau_b_2_feats = train_credit_bureau_b_2.groupby('case_id').agg(\n",
    "    pmts_pmtsoverdue_635A_max=('pmts_pmtsoverdue_635A', 'max'),\n",
    "    pmts_dpdvalue_108P_over31=('pmts_dpdvalue_108P', lambda x: (x > 31).max())\n",
    ").reset_index()\n",
    "\n",
    "# Process only A-type and M-type columns in pandas\n",
    "selected_static_cols = [col for col in train_static.columns if col[-1] in ('A', 'M')]\n",
    "print(selected_static_cols)\n",
    "\n",
    "selected_static_cb_cols = [col for col in train_static_cb.columns if col[-1] in ('A', 'M')]\n",
    "print(selected_static_cb_cols)\n",
    "\n",
    "# Join all tables together using Pandas\n",
    "train = reduce_mem_usage(train_basetable.merge(\n",
    "    train_static[['case_id'] + selected_static_cols], on='case_id', how='left'\n",
    ").merge(\n",
    "    train_static_cb[['case_id'] + selected_static_cb_cols], on='case_id', how='left'\n",
    ").merge(\n",
    "    train_person_1_feats_1, on='case_id', how='left'\n",
    ").merge(\n",
    "    train_person_1_feats_2, on='case_id', how='left'\n",
    ").merge(\n",
    "    train_credit_bureau_b_2_feats, on='case_id', how='left'\n",
    "))"
   ]
  },
  {
   "cell_type": "code",
   "execution_count": 14,
   "id": "5ad4dfbd",
   "metadata": {
    "execution": {
     "iopub.execute_input": "2024-05-14T11:27:17.254928Z",
     "iopub.status.busy": "2024-05-14T11:27:17.254512Z",
     "iopub.status.idle": "2024-05-14T11:27:17.320342Z",
     "shell.execute_reply": "2024-05-14T11:27:17.318972Z"
    },
    "papermill": {
     "duration": 0.080775,
     "end_time": "2024-05-14T11:27:17.323239",
     "exception": false,
     "start_time": "2024-05-14T11:27:17.242464",
     "status": "completed"
    },
    "tags": []
   },
   "outputs": [
    {
     "name": "stdout",
     "output_type": "stream",
     "text": [
      "Mem. usage decreased to  0.00 Mb (0.0% reduction)\n"
     ]
    }
   ],
   "source": [
    "# Aggregation in pandas for train_person_1\n",
    "test_person_1_feats_1 = test_person_1.groupby('case_id').agg(\n",
    "    mainoccupationinc_384A_max=('mainoccupationinc_384A', 'max'),\n",
    "    mainoccupationinc_384A_any_selfemployed=('incometype_1044T', lambda x: (x == 'SELFEMPLOYED').max())\n",
    ").reset_index()\n",
    "\n",
    "# Filtering and renaming in pandas for train_person_1\n",
    "test_person_1_feats_2 = test_person_1.loc[test_person_1['num_group1'] == 0, ['case_id', 'housetype_905L']]\n",
    "test_person_1_feats_2 = test_person_1_feats_2.rename(columns={'housetype_905L': 'person_housetype'})\n",
    "\n",
    "# Aggregation in pandas for train_credit_bureau_b_2\n",
    "test_credit_bureau_b_2_feats = test_credit_bureau_b_2.groupby('case_id').agg(\n",
    "    pmts_pmtsoverdue_635A_max=('pmts_pmtsoverdue_635A', 'max'),\n",
    "    pmts_dpdvalue_108P_over31=('pmts_dpdvalue_108P', lambda x: (x > 31).max())\n",
    ").reset_index()\n",
    "\n",
    "# Join all tables together using Pandas\n",
    "test = reduce_mem_usage(test_basetable.merge(\n",
    "    test_static[['case_id'] + selected_static_cols], on='case_id', how='left'\n",
    ").merge(\n",
    "    test_static_cb[['case_id'] + selected_static_cb_cols], on='case_id', how='left'\n",
    ").merge(\n",
    "    test_person_1_feats_1, on='case_id', how='left'\n",
    ").merge(\n",
    "    test_person_1_feats_2, on='case_id', how='left'\n",
    ").merge(\n",
    "    test_credit_bureau_b_2_feats, on='case_id', how='left'\n",
    "))"
   ]
  },
  {
   "cell_type": "code",
   "execution_count": 15,
   "id": "79ab5079",
   "metadata": {
    "execution": {
     "iopub.execute_input": "2024-05-14T11:27:17.343533Z",
     "iopub.status.busy": "2024-05-14T11:27:17.342783Z",
     "iopub.status.idle": "2024-05-14T11:27:18.019694Z",
     "shell.execute_reply": "2024-05-14T11:27:18.018290Z"
    },
    "papermill": {
     "duration": 0.690554,
     "end_time": "2024-05-14T11:27:18.022860",
     "exception": false,
     "start_time": "2024-05-14T11:27:17.332306",
     "status": "completed"
    },
    "tags": []
   },
   "outputs": [],
   "source": [
    "train, test = cyclic_features(train, test)\n",
    "\n",
    "#train = pd.get_dummies(train)\n",
    "#test = pd.get_dummies(test)"
   ]
  },
  {
   "cell_type": "code",
   "execution_count": 16,
   "id": "210fe088",
   "metadata": {
    "execution": {
     "iopub.execute_input": "2024-05-14T11:27:18.042813Z",
     "iopub.status.busy": "2024-05-14T11:27:18.042348Z",
     "iopub.status.idle": "2024-05-14T11:28:13.279324Z",
     "shell.execute_reply": "2024-05-14T11:28:13.276467Z"
    },
    "papermill": {
     "duration": 55.253024,
     "end_time": "2024-05-14T11:28:13.284667",
     "exception": false,
     "start_time": "2024-05-14T11:27:18.031643",
     "status": "completed"
    },
    "tags": []
   },
   "outputs": [],
   "source": [
    "train = train.apply(pd.to_numeric, errors='coerce')\n",
    "test = test.apply(pd.to_numeric, errors='coerce')\n",
    "\n",
    "selected_columns = [col for col in train.columns if col not in ['target', 'date_decision', 'day_of_year',\n",
    "                                                                'day_of_month', 'day_of_week']]\n",
    "\n",
    "imputer = SimpleImputer(strategy='constant', fill_value=0)\n",
    "train[selected_columns] = imputer.fit_transform(train[selected_columns])\n",
    "\n",
    "test[selected_columns] = preprocess_data(test[selected_columns], imputer)\n",
    "\n",
    "y = train['target']\n",
    "X = train[selected_columns]\n",
    "X_test = test[selected_columns]\n",
    "\n",
    "folds_X = create_k_folds(X, fold_n=5)\n",
    "folds_y = create_k_folds(y, fold_n=5)"
   ]
  },
  {
   "cell_type": "code",
   "execution_count": 17,
   "id": "4229268e",
   "metadata": {
    "execution": {
     "iopub.execute_input": "2024-05-14T11:28:13.308000Z",
     "iopub.status.busy": "2024-05-14T11:28:13.307469Z",
     "iopub.status.idle": "2024-05-14T11:29:04.433241Z",
     "shell.execute_reply": "2024-05-14T11:29:04.431792Z"
    },
    "papermill": {
     "duration": 51.153916,
     "end_time": "2024-05-14T11:29:04.449399",
     "exception": false,
     "start_time": "2024-05-14T11:28:13.295483",
     "status": "completed"
    },
    "tags": []
   },
   "outputs": [
    {
     "data": {
      "text/html": [
       "<table class=\"simpletable\">\n",
       "<caption>OLS Regression Results</caption>\n",
       "<tr>\n",
       "  <th>Dep. Variable:</th>            <td>y</td>        <th>  R-squared:         </th>  <td>   0.010</td> \n",
       "</tr>\n",
       "<tr>\n",
       "  <th>Model:</th>                   <td>OLS</td>       <th>  Adj. R-squared:    </th>  <td>   0.010</td> \n",
       "</tr>\n",
       "<tr>\n",
       "  <th>Method:</th>             <td>Least Squares</td>  <th>  F-statistic:       </th>  <td>   250.1</td> \n",
       "</tr>\n",
       "<tr>\n",
       "  <th>Date:</th>             <td>Tue, 14 May 2024</td> <th>  Prob (F-statistic):</th>   <td>  0.00</td>  \n",
       "</tr>\n",
       "<tr>\n",
       "  <th>Time:</th>                 <td>11:29:04</td>     <th>  Log-Likelihood:    </th> <td>4.3698e+05</td>\n",
       "</tr>\n",
       "<tr>\n",
       "  <th>No. Observations:</th>      <td>1221328</td>     <th>  AIC:               </th> <td>-8.739e+05</td>\n",
       "</tr>\n",
       "<tr>\n",
       "  <th>Df Residuals:</th>          <td>1221279</td>     <th>  BIC:               </th> <td>-8.733e+05</td>\n",
       "</tr>\n",
       "<tr>\n",
       "  <th>Df Model:</th>              <td>    48</td>      <th>                     </th>      <td> </td>    \n",
       "</tr>\n",
       "<tr>\n",
       "  <th>Covariance Type:</th>         <td>HC0</td>       <th>                     </th>      <td> </td>    \n",
       "</tr>\n",
       "</table>\n",
       "<table class=\"simpletable\">\n",
       "<tr>\n",
       "    <td></td>       <th>coef</th>     <th>std err</th>      <th>z</th>      <th>P>|z|</th>  <th>[0.025</th>    <th>0.975]</th>  \n",
       "</tr>\n",
       "<tr>\n",
       "  <th>const</th> <td>   14.0506</td> <td>    2.367</td> <td>    5.936</td> <td> 0.000</td> <td>    9.412</td> <td>   18.690</td>\n",
       "</tr>\n",
       "<tr>\n",
       "  <th>x1</th>    <td> 3.001e-09</td> <td> 2.38e-10</td> <td>   12.604</td> <td> 0.000</td> <td> 2.53e-09</td> <td> 3.47e-09</td>\n",
       "</tr>\n",
       "<tr>\n",
       "  <th>x2</th>    <td>-6.946e-05</td> <td> 1.17e-05</td> <td>   -5.924</td> <td> 0.000</td> <td>-9.24e-05</td> <td>-4.65e-05</td>\n",
       "</tr>\n",
       "<tr>\n",
       "  <th>x3</th>    <td> 5.064e-05</td> <td> 2.26e-05</td> <td>    2.237</td> <td> 0.025</td> <td> 6.28e-06</td> <td>  9.5e-05</td>\n",
       "</tr>\n",
       "<tr>\n",
       "  <th>x4</th>    <td>-1.905e-07</td> <td> 7.44e-09</td> <td>  -25.589</td> <td> 0.000</td> <td>-2.05e-07</td> <td>-1.76e-07</td>\n",
       "</tr>\n",
       "<tr>\n",
       "  <th>x5</th>    <td>-6.084e-07</td> <td> 9.45e-08</td> <td>   -6.436</td> <td> 0.000</td> <td>-7.94e-07</td> <td>-4.23e-07</td>\n",
       "</tr>\n",
       "<tr>\n",
       "  <th>x6</th>    <td> 2.938e-08</td> <td> 8.94e-08</td> <td>    0.329</td> <td> 0.743</td> <td>-1.46e-07</td> <td> 2.05e-07</td>\n",
       "</tr>\n",
       "<tr>\n",
       "  <th>x7</th>    <td>-1.656e-07</td> <td> 4.19e-08</td> <td>   -3.953</td> <td> 0.000</td> <td>-2.48e-07</td> <td>-8.35e-08</td>\n",
       "</tr>\n",
       "<tr>\n",
       "  <th>x8</th>    <td> 4.527e-08</td> <td> 1.39e-08</td> <td>    3.248</td> <td> 0.001</td> <td>  1.8e-08</td> <td> 7.26e-08</td>\n",
       "</tr>\n",
       "<tr>\n",
       "  <th>x9</th>    <td>-2.545e-08</td> <td> 1.86e-08</td> <td>   -1.372</td> <td> 0.170</td> <td>-6.18e-08</td> <td> 1.09e-08</td>\n",
       "</tr>\n",
       "<tr>\n",
       "  <th>x10</th>   <td> 1.804e-07</td> <td> 4.18e-08</td> <td>    4.318</td> <td> 0.000</td> <td> 9.85e-08</td> <td> 2.62e-07</td>\n",
       "</tr>\n",
       "<tr>\n",
       "  <th>x11</th>   <td> 9.862e-08</td> <td>  1.1e-08</td> <td>    8.961</td> <td> 0.000</td> <td>  7.7e-08</td> <td>  1.2e-07</td>\n",
       "</tr>\n",
       "<tr>\n",
       "  <th>x12</th>   <td>-4.196e-06</td> <td> 2.18e-06</td> <td>   -1.924</td> <td> 0.054</td> <td>-8.47e-06</td> <td> 7.94e-08</td>\n",
       "</tr>\n",
       "<tr>\n",
       "  <th>x13</th>   <td> 2.567e-08</td> <td> 7.42e-09</td> <td>    3.461</td> <td> 0.001</td> <td> 1.11e-08</td> <td> 4.02e-08</td>\n",
       "</tr>\n",
       "<tr>\n",
       "  <th>x14</th>   <td> 6.209e-08</td> <td> 1.08e-08</td> <td>    5.773</td> <td> 0.000</td> <td>  4.1e-08</td> <td> 8.32e-08</td>\n",
       "</tr>\n",
       "<tr>\n",
       "  <th>x15</th>   <td> 5.342e-08</td> <td> 4.93e-08</td> <td>    1.083</td> <td> 0.279</td> <td>-4.33e-08</td> <td>  1.5e-07</td>\n",
       "</tr>\n",
       "<tr>\n",
       "  <th>x16</th>   <td> -1.15e-07</td> <td> 1.36e-08</td> <td>   -8.465</td> <td> 0.000</td> <td>-1.42e-07</td> <td>-8.83e-08</td>\n",
       "</tr>\n",
       "<tr>\n",
       "  <th>x17</th>   <td>-3.305e-18</td> <td>  1.6e-18</td> <td>   -2.071</td> <td> 0.038</td> <td>-6.43e-18</td> <td>-1.77e-19</td>\n",
       "</tr>\n",
       "<tr>\n",
       "  <th>x18</th>   <td>-6.503e-18</td> <td> 1.64e-18</td> <td>   -3.955</td> <td> 0.000</td> <td>-9.73e-18</td> <td>-3.28e-18</td>\n",
       "</tr>\n",
       "<tr>\n",
       "  <th>x19</th>   <td>-4.652e-08</td> <td> 6.44e-09</td> <td>   -7.220</td> <td> 0.000</td> <td>-5.91e-08</td> <td>-3.39e-08</td>\n",
       "</tr>\n",
       "<tr>\n",
       "  <th>x20</th>   <td> 1.052e-17</td> <td> 9.45e-19</td> <td>   11.123</td> <td> 0.000</td> <td> 8.66e-18</td> <td> 1.24e-17</td>\n",
       "</tr>\n",
       "<tr>\n",
       "  <th>x21</th>   <td>-2.106e-07</td> <td> 5.79e-07</td> <td>   -0.364</td> <td> 0.716</td> <td>-1.35e-06</td> <td> 9.24e-07</td>\n",
       "</tr>\n",
       "<tr>\n",
       "  <th>x22</th>   <td> -3.92e-08</td> <td> 1.28e-07</td> <td>   -0.307</td> <td> 0.759</td> <td>-2.89e-07</td> <td> 2.11e-07</td>\n",
       "</tr>\n",
       "<tr>\n",
       "  <th>x23</th>   <td>  5.74e-17</td> <td> 4.44e-18</td> <td>   12.941</td> <td> 0.000</td> <td> 4.87e-17</td> <td> 6.61e-17</td>\n",
       "</tr>\n",
       "<tr>\n",
       "  <th>x24</th>   <td>-3.383e-17</td> <td> 3.97e-18</td> <td>   -8.513</td> <td> 0.000</td> <td>-4.16e-17</td> <td> -2.6e-17</td>\n",
       "</tr>\n",
       "<tr>\n",
       "  <th>x25</th>   <td>   1.4e-07</td> <td> 4.19e-09</td> <td>   33.450</td> <td> 0.000</td> <td> 1.32e-07</td> <td> 1.48e-07</td>\n",
       "</tr>\n",
       "<tr>\n",
       "  <th>x26</th>   <td>-1.431e-17</td> <td> 1.56e-18</td> <td>   -9.172</td> <td> 0.000</td> <td>-1.74e-17</td> <td>-1.13e-17</td>\n",
       "</tr>\n",
       "<tr>\n",
       "  <th>x27</th>   <td> 1.918e-17</td> <td> 1.09e-18</td> <td>   17.608</td> <td> 0.000</td> <td>  1.7e-17</td> <td> 2.13e-17</td>\n",
       "</tr>\n",
       "<tr>\n",
       "  <th>x28</th>   <td> 9.458e-09</td> <td>  5.8e-09</td> <td>    1.632</td> <td> 0.103</td> <td> -1.9e-09</td> <td> 2.08e-08</td>\n",
       "</tr>\n",
       "<tr>\n",
       "  <th>x29</th>   <td> 4.307e-08</td> <td> 5.07e-09</td> <td>    8.502</td> <td> 0.000</td> <td> 3.31e-08</td> <td>  5.3e-08</td>\n",
       "</tr>\n",
       "<tr>\n",
       "  <th>x30</th>   <td> 2.618e-08</td> <td> 6.19e-09</td> <td>    4.230</td> <td> 0.000</td> <td> 1.41e-08</td> <td> 3.83e-08</td>\n",
       "</tr>\n",
       "<tr>\n",
       "  <th>x31</th>   <td>-6.666e-08</td> <td> 8.35e-09</td> <td>   -7.986</td> <td> 0.000</td> <td> -8.3e-08</td> <td>-5.03e-08</td>\n",
       "</tr>\n",
       "<tr>\n",
       "  <th>x32</th>   <td> 1.693e-07</td> <td> 1.63e-08</td> <td>   10.374</td> <td> 0.000</td> <td> 1.37e-07</td> <td> 2.01e-07</td>\n",
       "</tr>\n",
       "<tr>\n",
       "  <th>x33</th>   <td>-2.355e-08</td> <td> 1.01e-08</td> <td>   -2.328</td> <td> 0.020</td> <td>-4.34e-08</td> <td>-3.72e-09</td>\n",
       "</tr>\n",
       "<tr>\n",
       "  <th>x34</th>   <td> 1.466e-07</td> <td> 1.19e-08</td> <td>   12.302</td> <td> 0.000</td> <td> 1.23e-07</td> <td>  1.7e-07</td>\n",
       "</tr>\n",
       "<tr>\n",
       "  <th>x35</th>   <td> 2.225e-08</td> <td> 3.29e-08</td> <td>    0.675</td> <td> 0.499</td> <td>-4.23e-08</td> <td> 8.68e-08</td>\n",
       "</tr>\n",
       "<tr>\n",
       "  <th>x36</th>   <td>-1.257e-19</td> <td> 3.46e-19</td> <td>   -0.364</td> <td> 0.716</td> <td>-8.03e-19</td> <td> 5.52e-19</td>\n",
       "</tr>\n",
       "<tr>\n",
       "  <th>x37</th>   <td> 2.879e-08</td> <td> 7.57e-09</td> <td>    3.801</td> <td> 0.000</td> <td> 1.39e-08</td> <td> 4.36e-08</td>\n",
       "</tr>\n",
       "<tr>\n",
       "  <th>x38</th>   <td> -1.93e-07</td> <td> 5.06e-08</td> <td>   -3.816</td> <td> 0.000</td> <td>-2.92e-07</td> <td>-9.39e-08</td>\n",
       "</tr>\n",
       "<tr>\n",
       "  <th>x39</th>   <td> 2.488e-08</td> <td> 9.17e-09</td> <td>    2.713</td> <td> 0.007</td> <td>  6.9e-09</td> <td> 4.29e-08</td>\n",
       "</tr>\n",
       "<tr>\n",
       "  <th>x40</th>   <td> 4.418e-06</td> <td> 2.18e-06</td> <td>    2.026</td> <td> 0.043</td> <td> 1.43e-07</td> <td> 8.69e-06</td>\n",
       "</tr>\n",
       "<tr>\n",
       "  <th>x41</th>   <td>-2.022e-08</td> <td> 3.11e-09</td> <td>   -6.496</td> <td> 0.000</td> <td>-2.63e-08</td> <td>-1.41e-08</td>\n",
       "</tr>\n",
       "<tr>\n",
       "  <th>x42</th>   <td> 6.598e-08</td> <td> 3.74e-08</td> <td>    1.766</td> <td> 0.077</td> <td>-7.25e-09</td> <td> 1.39e-07</td>\n",
       "</tr>\n",
       "<tr>\n",
       "  <th>x43</th>   <td>-3.476e-18</td> <td> 1.67e-19</td> <td>  -20.847</td> <td> 0.000</td> <td> -3.8e-18</td> <td>-3.15e-18</td>\n",
       "</tr>\n",
       "<tr>\n",
       "  <th>x44</th>   <td> 1.416e-17</td> <td> 5.84e-19</td> <td>   24.256</td> <td> 0.000</td> <td>  1.3e-17</td> <td> 1.53e-17</td>\n",
       "</tr>\n",
       "<tr>\n",
       "  <th>x45</th>   <td> 1.957e-17</td> <td> 9.38e-19</td> <td>   20.864</td> <td> 0.000</td> <td> 1.77e-17</td> <td> 2.14e-17</td>\n",
       "</tr>\n",
       "<tr>\n",
       "  <th>x46</th>   <td> 8.915e-19</td> <td>  9.9e-20</td> <td>    9.009</td> <td> 0.000</td> <td> 6.98e-19</td> <td> 1.09e-18</td>\n",
       "</tr>\n",
       "<tr>\n",
       "  <th>x47</th>   <td> -3.57e-18</td> <td> 2.58e-19</td> <td>  -13.843</td> <td> 0.000</td> <td>-4.08e-18</td> <td>-3.06e-18</td>\n",
       "</tr>\n",
       "<tr>\n",
       "  <th>x48</th>   <td>-1.696e-06</td> <td> 3.31e-08</td> <td>  -51.295</td> <td> 0.000</td> <td>-1.76e-06</td> <td>-1.63e-06</td>\n",
       "</tr>\n",
       "<tr>\n",
       "  <th>x49</th>   <td>-9.951e-07</td> <td>  4.7e-08</td> <td>  -21.186</td> <td> 0.000</td> <td>-1.09e-06</td> <td>-9.03e-07</td>\n",
       "</tr>\n",
       "<tr>\n",
       "  <th>x50</th>   <td>-8.444e-07</td> <td> 2.57e-08</td> <td>  -32.897</td> <td> 0.000</td> <td>-8.95e-07</td> <td>-7.94e-07</td>\n",
       "</tr>\n",
       "<tr>\n",
       "  <th>x51</th>   <td>-3.945e-07</td> <td> 9.26e-09</td> <td>  -42.600</td> <td> 0.000</td> <td>-4.13e-07</td> <td>-3.76e-07</td>\n",
       "</tr>\n",
       "<tr>\n",
       "  <th>x52</th>   <td>-1.836e-08</td> <td> 5.17e-09</td> <td>   -3.552</td> <td> 0.000</td> <td>-2.85e-08</td> <td>-8.23e-09</td>\n",
       "</tr>\n",
       "<tr>\n",
       "  <th>x53</th>   <td>   -0.0085</td> <td>    0.001</td> <td>   -7.628</td> <td> 0.000</td> <td>   -0.011</td> <td>   -0.006</td>\n",
       "</tr>\n",
       "<tr>\n",
       "  <th>x54</th>   <td>         0</td> <td>        0</td> <td>      nan</td> <td>   nan</td> <td>        0</td> <td>        0</td>\n",
       "</tr>\n",
       "<tr>\n",
       "  <th>x55</th>   <td>  3.37e-06</td> <td>  2.5e-06</td> <td>    1.347</td> <td> 0.178</td> <td>-1.53e-06</td> <td> 8.27e-06</td>\n",
       "</tr>\n",
       "<tr>\n",
       "  <th>x56</th>   <td>    0.0616</td> <td>    0.003</td> <td>   23.565</td> <td> 0.000</td> <td>    0.056</td> <td>    0.067</td>\n",
       "</tr>\n",
       "<tr>\n",
       "  <th>x57</th>   <td>    0.0027</td> <td>    0.000</td> <td>    7.356</td> <td> 0.000</td> <td>    0.002</td> <td>    0.003</td>\n",
       "</tr>\n",
       "<tr>\n",
       "  <th>x58</th>   <td>    0.0024</td> <td>    0.000</td> <td>    9.049</td> <td> 0.000</td> <td>    0.002</td> <td>    0.003</td>\n",
       "</tr>\n",
       "<tr>\n",
       "  <th>x59</th>   <td>   -0.0009</td> <td>    0.000</td> <td>   -4.155</td> <td> 0.000</td> <td>   -0.001</td> <td>   -0.000</td>\n",
       "</tr>\n",
       "<tr>\n",
       "  <th>x60</th>   <td>   -0.0005</td> <td>    0.000</td> <td>   -2.358</td> <td> 0.018</td> <td>   -0.001</td> <td>-8.57e-05</td>\n",
       "</tr>\n",
       "<tr>\n",
       "  <th>x61</th>   <td>    0.0035</td> <td>    0.000</td> <td>   15.562</td> <td> 0.000</td> <td>    0.003</td> <td>    0.004</td>\n",
       "</tr>\n",
       "<tr>\n",
       "  <th>x62</th>   <td>   -0.0004</td> <td>    0.000</td> <td>   -1.868</td> <td> 0.062</td> <td>   -0.001</td> <td> 1.98e-05</td>\n",
       "</tr>\n",
       "</table>\n",
       "<table class=\"simpletable\">\n",
       "<tr>\n",
       "  <th>Omnibus:</th>       <td>1251867.306</td> <th>  Durbin-Watson:     </th>   <td>   1.997</td>  \n",
       "</tr>\n",
       "<tr>\n",
       "  <th>Prob(Omnibus):</th>   <td> 0.000</td>    <th>  Jarque-Bera (JB):  </th> <td>46008614.180</td>\n",
       "</tr>\n",
       "<tr>\n",
       "  <th>Skew:</th>            <td> 5.447</td>    <th>  Prob(JB):          </th>   <td>    0.00</td>  \n",
       "</tr>\n",
       "<tr>\n",
       "  <th>Kurtosis:</th>        <td>31.025</td>    <th>  Cond. No.          </th>   <td>1.18e+16</td>  \n",
       "</tr>\n",
       "</table><br/><br/>Notes:<br/>[1] Standard Errors are heteroscedasticity robust (HC0)<br/>[2] The smallest eigenvalue is 1.81e-14. This might indicate that there are<br/>strong multicollinearity problems or that the design matrix is singular."
      ],
      "text/latex": [
       "\\begin{center}\n",
       "\\begin{tabular}{lclc}\n",
       "\\toprule\n",
       "\\textbf{Dep. Variable:}    &        y         & \\textbf{  R-squared:         } &      0.010    \\\\\n",
       "\\textbf{Model:}            &       OLS        & \\textbf{  Adj. R-squared:    } &      0.010    \\\\\n",
       "\\textbf{Method:}           &  Least Squares   & \\textbf{  F-statistic:       } &      250.1    \\\\\n",
       "\\textbf{Date:}             & Tue, 14 May 2024 & \\textbf{  Prob (F-statistic):} &      0.00     \\\\\n",
       "\\textbf{Time:}             &     11:29:04     & \\textbf{  Log-Likelihood:    } &  4.3698e+05   \\\\\n",
       "\\textbf{No. Observations:} &     1221328      & \\textbf{  AIC:               } &  -8.739e+05   \\\\\n",
       "\\textbf{Df Residuals:}     &     1221279      & \\textbf{  BIC:               } &  -8.733e+05   \\\\\n",
       "\\textbf{Df Model:}         &          48      & \\textbf{                     } &               \\\\\n",
       "\\textbf{Covariance Type:}  &       HC0        & \\textbf{                     } &               \\\\\n",
       "\\bottomrule\n",
       "\\end{tabular}\n",
       "\\begin{tabular}{lcccccc}\n",
       "               & \\textbf{coef} & \\textbf{std err} & \\textbf{z} & \\textbf{P$> |$z$|$} & \\textbf{[0.025} & \\textbf{0.975]}  \\\\\n",
       "\\midrule\n",
       "\\textbf{const} &      14.0506  &        2.367     &     5.936  &         0.000        &        9.412    &       18.690     \\\\\n",
       "\\textbf{x1}    &    3.001e-09  &     2.38e-10     &    12.604  &         0.000        &     2.53e-09    &     3.47e-09     \\\\\n",
       "\\textbf{x2}    &   -6.946e-05  &     1.17e-05     &    -5.924  &         0.000        &    -9.24e-05    &    -4.65e-05     \\\\\n",
       "\\textbf{x3}    &    5.064e-05  &     2.26e-05     &     2.237  &         0.025        &     6.28e-06    &      9.5e-05     \\\\\n",
       "\\textbf{x4}    &   -1.905e-07  &     7.44e-09     &   -25.589  &         0.000        &    -2.05e-07    &    -1.76e-07     \\\\\n",
       "\\textbf{x5}    &   -6.084e-07  &     9.45e-08     &    -6.436  &         0.000        &    -7.94e-07    &    -4.23e-07     \\\\\n",
       "\\textbf{x6}    &    2.938e-08  &     8.94e-08     &     0.329  &         0.743        &    -1.46e-07    &     2.05e-07     \\\\\n",
       "\\textbf{x7}    &   -1.656e-07  &     4.19e-08     &    -3.953  &         0.000        &    -2.48e-07    &    -8.35e-08     \\\\\n",
       "\\textbf{x8}    &    4.527e-08  &     1.39e-08     &     3.248  &         0.001        &      1.8e-08    &     7.26e-08     \\\\\n",
       "\\textbf{x9}    &   -2.545e-08  &     1.86e-08     &    -1.372  &         0.170        &    -6.18e-08    &     1.09e-08     \\\\\n",
       "\\textbf{x10}   &    1.804e-07  &     4.18e-08     &     4.318  &         0.000        &     9.85e-08    &     2.62e-07     \\\\\n",
       "\\textbf{x11}   &    9.862e-08  &      1.1e-08     &     8.961  &         0.000        &      7.7e-08    &      1.2e-07     \\\\\n",
       "\\textbf{x12}   &   -4.196e-06  &     2.18e-06     &    -1.924  &         0.054        &    -8.47e-06    &     7.94e-08     \\\\\n",
       "\\textbf{x13}   &    2.567e-08  &     7.42e-09     &     3.461  &         0.001        &     1.11e-08    &     4.02e-08     \\\\\n",
       "\\textbf{x14}   &    6.209e-08  &     1.08e-08     &     5.773  &         0.000        &      4.1e-08    &     8.32e-08     \\\\\n",
       "\\textbf{x15}   &    5.342e-08  &     4.93e-08     &     1.083  &         0.279        &    -4.33e-08    &      1.5e-07     \\\\\n",
       "\\textbf{x16}   &    -1.15e-07  &     1.36e-08     &    -8.465  &         0.000        &    -1.42e-07    &    -8.83e-08     \\\\\n",
       "\\textbf{x17}   &   -3.305e-18  &      1.6e-18     &    -2.071  &         0.038        &    -6.43e-18    &    -1.77e-19     \\\\\n",
       "\\textbf{x18}   &   -6.503e-18  &     1.64e-18     &    -3.955  &         0.000        &    -9.73e-18    &    -3.28e-18     \\\\\n",
       "\\textbf{x19}   &   -4.652e-08  &     6.44e-09     &    -7.220  &         0.000        &    -5.91e-08    &    -3.39e-08     \\\\\n",
       "\\textbf{x20}   &    1.052e-17  &     9.45e-19     &    11.123  &         0.000        &     8.66e-18    &     1.24e-17     \\\\\n",
       "\\textbf{x21}   &   -2.106e-07  &     5.79e-07     &    -0.364  &         0.716        &    -1.35e-06    &     9.24e-07     \\\\\n",
       "\\textbf{x22}   &    -3.92e-08  &     1.28e-07     &    -0.307  &         0.759        &    -2.89e-07    &     2.11e-07     \\\\\n",
       "\\textbf{x23}   &     5.74e-17  &     4.44e-18     &    12.941  &         0.000        &     4.87e-17    &     6.61e-17     \\\\\n",
       "\\textbf{x24}   &   -3.383e-17  &     3.97e-18     &    -8.513  &         0.000        &    -4.16e-17    &     -2.6e-17     \\\\\n",
       "\\textbf{x25}   &      1.4e-07  &     4.19e-09     &    33.450  &         0.000        &     1.32e-07    &     1.48e-07     \\\\\n",
       "\\textbf{x26}   &   -1.431e-17  &     1.56e-18     &    -9.172  &         0.000        &    -1.74e-17    &    -1.13e-17     \\\\\n",
       "\\textbf{x27}   &    1.918e-17  &     1.09e-18     &    17.608  &         0.000        &      1.7e-17    &     2.13e-17     \\\\\n",
       "\\textbf{x28}   &    9.458e-09  &      5.8e-09     &     1.632  &         0.103        &     -1.9e-09    &     2.08e-08     \\\\\n",
       "\\textbf{x29}   &    4.307e-08  &     5.07e-09     &     8.502  &         0.000        &     3.31e-08    &      5.3e-08     \\\\\n",
       "\\textbf{x30}   &    2.618e-08  &     6.19e-09     &     4.230  &         0.000        &     1.41e-08    &     3.83e-08     \\\\\n",
       "\\textbf{x31}   &   -6.666e-08  &     8.35e-09     &    -7.986  &         0.000        &     -8.3e-08    &    -5.03e-08     \\\\\n",
       "\\textbf{x32}   &    1.693e-07  &     1.63e-08     &    10.374  &         0.000        &     1.37e-07    &     2.01e-07     \\\\\n",
       "\\textbf{x33}   &   -2.355e-08  &     1.01e-08     &    -2.328  &         0.020        &    -4.34e-08    &    -3.72e-09     \\\\\n",
       "\\textbf{x34}   &    1.466e-07  &     1.19e-08     &    12.302  &         0.000        &     1.23e-07    &      1.7e-07     \\\\\n",
       "\\textbf{x35}   &    2.225e-08  &     3.29e-08     &     0.675  &         0.499        &    -4.23e-08    &     8.68e-08     \\\\\n",
       "\\textbf{x36}   &   -1.257e-19  &     3.46e-19     &    -0.364  &         0.716        &    -8.03e-19    &     5.52e-19     \\\\\n",
       "\\textbf{x37}   &    2.879e-08  &     7.57e-09     &     3.801  &         0.000        &     1.39e-08    &     4.36e-08     \\\\\n",
       "\\textbf{x38}   &    -1.93e-07  &     5.06e-08     &    -3.816  &         0.000        &    -2.92e-07    &    -9.39e-08     \\\\\n",
       "\\textbf{x39}   &    2.488e-08  &     9.17e-09     &     2.713  &         0.007        &      6.9e-09    &     4.29e-08     \\\\\n",
       "\\textbf{x40}   &    4.418e-06  &     2.18e-06     &     2.026  &         0.043        &     1.43e-07    &     8.69e-06     \\\\\n",
       "\\textbf{x41}   &   -2.022e-08  &     3.11e-09     &    -6.496  &         0.000        &    -2.63e-08    &    -1.41e-08     \\\\\n",
       "\\textbf{x42}   &    6.598e-08  &     3.74e-08     &     1.766  &         0.077        &    -7.25e-09    &     1.39e-07     \\\\\n",
       "\\textbf{x43}   &   -3.476e-18  &     1.67e-19     &   -20.847  &         0.000        &     -3.8e-18    &    -3.15e-18     \\\\\n",
       "\\textbf{x44}   &    1.416e-17  &     5.84e-19     &    24.256  &         0.000        &      1.3e-17    &     1.53e-17     \\\\\n",
       "\\textbf{x45}   &    1.957e-17  &     9.38e-19     &    20.864  &         0.000        &     1.77e-17    &     2.14e-17     \\\\\n",
       "\\textbf{x46}   &    8.915e-19  &      9.9e-20     &     9.009  &         0.000        &     6.98e-19    &     1.09e-18     \\\\\n",
       "\\textbf{x47}   &    -3.57e-18  &     2.58e-19     &   -13.843  &         0.000        &    -4.08e-18    &    -3.06e-18     \\\\\n",
       "\\textbf{x48}   &   -1.696e-06  &     3.31e-08     &   -51.295  &         0.000        &    -1.76e-06    &    -1.63e-06     \\\\\n",
       "\\textbf{x49}   &   -9.951e-07  &      4.7e-08     &   -21.186  &         0.000        &    -1.09e-06    &    -9.03e-07     \\\\\n",
       "\\textbf{x50}   &   -8.444e-07  &     2.57e-08     &   -32.897  &         0.000        &    -8.95e-07    &    -7.94e-07     \\\\\n",
       "\\textbf{x51}   &   -3.945e-07  &     9.26e-09     &   -42.600  &         0.000        &    -4.13e-07    &    -3.76e-07     \\\\\n",
       "\\textbf{x52}   &   -1.836e-08  &     5.17e-09     &    -3.552  &         0.000        &    -2.85e-08    &    -8.23e-09     \\\\\n",
       "\\textbf{x53}   &      -0.0085  &        0.001     &    -7.628  &         0.000        &       -0.011    &       -0.006     \\\\\n",
       "\\textbf{x54}   &            0  &            0     &       nan  &           nan        &            0    &            0     \\\\\n",
       "\\textbf{x55}   &     3.37e-06  &      2.5e-06     &     1.347  &         0.178        &    -1.53e-06    &     8.27e-06     \\\\\n",
       "\\textbf{x56}   &       0.0616  &        0.003     &    23.565  &         0.000        &        0.056    &        0.067     \\\\\n",
       "\\textbf{x57}   &       0.0027  &        0.000     &     7.356  &         0.000        &        0.002    &        0.003     \\\\\n",
       "\\textbf{x58}   &       0.0024  &        0.000     &     9.049  &         0.000        &        0.002    &        0.003     \\\\\n",
       "\\textbf{x59}   &      -0.0009  &        0.000     &    -4.155  &         0.000        &       -0.001    &       -0.000     \\\\\n",
       "\\textbf{x60}   &      -0.0005  &        0.000     &    -2.358  &         0.018        &       -0.001    &    -8.57e-05     \\\\\n",
       "\\textbf{x61}   &       0.0035  &        0.000     &    15.562  &         0.000        &        0.003    &        0.004     \\\\\n",
       "\\textbf{x62}   &      -0.0004  &        0.000     &    -1.868  &         0.062        &       -0.001    &     1.98e-05     \\\\\n",
       "\\bottomrule\n",
       "\\end{tabular}\n",
       "\\begin{tabular}{lclc}\n",
       "\\textbf{Omnibus:}       & 1251867.306 & \\textbf{  Durbin-Watson:     } &      1.997    \\\\\n",
       "\\textbf{Prob(Omnibus):} &     0.000   & \\textbf{  Jarque-Bera (JB):  } & 46008614.180  \\\\\n",
       "\\textbf{Skew:}          &     5.447   & \\textbf{  Prob(JB):          } &       0.00    \\\\\n",
       "\\textbf{Kurtosis:}      &    31.025   & \\textbf{  Cond. No.          } &   1.18e+16    \\\\\n",
       "\\bottomrule\n",
       "\\end{tabular}\n",
       "%\\caption{OLS Regression Results}\n",
       "\\end{center}\n",
       "\n",
       "Notes: \\newline\n",
       " [1] Standard Errors are heteroscedasticity robust (HC0) \\newline\n",
       " [2] The smallest eigenvalue is 1.81e-14. This might indicate that there are \\newline\n",
       " strong multicollinearity problems or that the design matrix is singular."
      ],
      "text/plain": [
       "<class 'statsmodels.iolib.summary.Summary'>\n",
       "\"\"\"\n",
       "                            OLS Regression Results                            \n",
       "==============================================================================\n",
       "Dep. Variable:                      y   R-squared:                       0.010\n",
       "Model:                            OLS   Adj. R-squared:                  0.010\n",
       "Method:                 Least Squares   F-statistic:                     250.1\n",
       "Date:                Tue, 14 May 2024   Prob (F-statistic):               0.00\n",
       "Time:                        11:29:04   Log-Likelihood:             4.3698e+05\n",
       "No. Observations:             1221328   AIC:                        -8.739e+05\n",
       "Df Residuals:                 1221279   BIC:                        -8.733e+05\n",
       "Df Model:                          48                                         \n",
       "Covariance Type:                  HC0                                         \n",
       "==============================================================================\n",
       "                 coef    std err          z      P>|z|      [0.025      0.975]\n",
       "------------------------------------------------------------------------------\n",
       "const         14.0506      2.367      5.936      0.000       9.412      18.690\n",
       "x1          3.001e-09   2.38e-10     12.604      0.000    2.53e-09    3.47e-09\n",
       "x2         -6.946e-05   1.17e-05     -5.924      0.000   -9.24e-05   -4.65e-05\n",
       "x3          5.064e-05   2.26e-05      2.237      0.025    6.28e-06     9.5e-05\n",
       "x4         -1.905e-07   7.44e-09    -25.589      0.000   -2.05e-07   -1.76e-07\n",
       "x5         -6.084e-07   9.45e-08     -6.436      0.000   -7.94e-07   -4.23e-07\n",
       "x6          2.938e-08   8.94e-08      0.329      0.743   -1.46e-07    2.05e-07\n",
       "x7         -1.656e-07   4.19e-08     -3.953      0.000   -2.48e-07   -8.35e-08\n",
       "x8          4.527e-08   1.39e-08      3.248      0.001     1.8e-08    7.26e-08\n",
       "x9         -2.545e-08   1.86e-08     -1.372      0.170   -6.18e-08    1.09e-08\n",
       "x10         1.804e-07   4.18e-08      4.318      0.000    9.85e-08    2.62e-07\n",
       "x11         9.862e-08    1.1e-08      8.961      0.000     7.7e-08     1.2e-07\n",
       "x12        -4.196e-06   2.18e-06     -1.924      0.054   -8.47e-06    7.94e-08\n",
       "x13         2.567e-08   7.42e-09      3.461      0.001    1.11e-08    4.02e-08\n",
       "x14         6.209e-08   1.08e-08      5.773      0.000     4.1e-08    8.32e-08\n",
       "x15         5.342e-08   4.93e-08      1.083      0.279   -4.33e-08     1.5e-07\n",
       "x16         -1.15e-07   1.36e-08     -8.465      0.000   -1.42e-07   -8.83e-08\n",
       "x17        -3.305e-18    1.6e-18     -2.071      0.038   -6.43e-18   -1.77e-19\n",
       "x18        -6.503e-18   1.64e-18     -3.955      0.000   -9.73e-18   -3.28e-18\n",
       "x19        -4.652e-08   6.44e-09     -7.220      0.000   -5.91e-08   -3.39e-08\n",
       "x20         1.052e-17   9.45e-19     11.123      0.000    8.66e-18    1.24e-17\n",
       "x21        -2.106e-07   5.79e-07     -0.364      0.716   -1.35e-06    9.24e-07\n",
       "x22         -3.92e-08   1.28e-07     -0.307      0.759   -2.89e-07    2.11e-07\n",
       "x23          5.74e-17   4.44e-18     12.941      0.000    4.87e-17    6.61e-17\n",
       "x24        -3.383e-17   3.97e-18     -8.513      0.000   -4.16e-17    -2.6e-17\n",
       "x25           1.4e-07   4.19e-09     33.450      0.000    1.32e-07    1.48e-07\n",
       "x26        -1.431e-17   1.56e-18     -9.172      0.000   -1.74e-17   -1.13e-17\n",
       "x27         1.918e-17   1.09e-18     17.608      0.000     1.7e-17    2.13e-17\n",
       "x28         9.458e-09    5.8e-09      1.632      0.103    -1.9e-09    2.08e-08\n",
       "x29         4.307e-08   5.07e-09      8.502      0.000    3.31e-08     5.3e-08\n",
       "x30         2.618e-08   6.19e-09      4.230      0.000    1.41e-08    3.83e-08\n",
       "x31        -6.666e-08   8.35e-09     -7.986      0.000    -8.3e-08   -5.03e-08\n",
       "x32         1.693e-07   1.63e-08     10.374      0.000    1.37e-07    2.01e-07\n",
       "x33        -2.355e-08   1.01e-08     -2.328      0.020   -4.34e-08   -3.72e-09\n",
       "x34         1.466e-07   1.19e-08     12.302      0.000    1.23e-07     1.7e-07\n",
       "x35         2.225e-08   3.29e-08      0.675      0.499   -4.23e-08    8.68e-08\n",
       "x36        -1.257e-19   3.46e-19     -0.364      0.716   -8.03e-19    5.52e-19\n",
       "x37         2.879e-08   7.57e-09      3.801      0.000    1.39e-08    4.36e-08\n",
       "x38         -1.93e-07   5.06e-08     -3.816      0.000   -2.92e-07   -9.39e-08\n",
       "x39         2.488e-08   9.17e-09      2.713      0.007     6.9e-09    4.29e-08\n",
       "x40         4.418e-06   2.18e-06      2.026      0.043    1.43e-07    8.69e-06\n",
       "x41        -2.022e-08   3.11e-09     -6.496      0.000   -2.63e-08   -1.41e-08\n",
       "x42         6.598e-08   3.74e-08      1.766      0.077   -7.25e-09    1.39e-07\n",
       "x43        -3.476e-18   1.67e-19    -20.847      0.000    -3.8e-18   -3.15e-18\n",
       "x44         1.416e-17   5.84e-19     24.256      0.000     1.3e-17    1.53e-17\n",
       "x45         1.957e-17   9.38e-19     20.864      0.000    1.77e-17    2.14e-17\n",
       "x46         8.915e-19    9.9e-20      9.009      0.000    6.98e-19    1.09e-18\n",
       "x47         -3.57e-18   2.58e-19    -13.843      0.000   -4.08e-18   -3.06e-18\n",
       "x48        -1.696e-06   3.31e-08    -51.295      0.000   -1.76e-06   -1.63e-06\n",
       "x49        -9.951e-07    4.7e-08    -21.186      0.000   -1.09e-06   -9.03e-07\n",
       "x50        -8.444e-07   2.57e-08    -32.897      0.000   -8.95e-07   -7.94e-07\n",
       "x51        -3.945e-07   9.26e-09    -42.600      0.000   -4.13e-07   -3.76e-07\n",
       "x52        -1.836e-08   5.17e-09     -3.552      0.000   -2.85e-08   -8.23e-09\n",
       "x53           -0.0085      0.001     -7.628      0.000      -0.011      -0.006\n",
       "x54                 0          0        nan        nan           0           0\n",
       "x55          3.37e-06    2.5e-06      1.347      0.178   -1.53e-06    8.27e-06\n",
       "x56            0.0616      0.003     23.565      0.000       0.056       0.067\n",
       "x57            0.0027      0.000      7.356      0.000       0.002       0.003\n",
       "x58            0.0024      0.000      9.049      0.000       0.002       0.003\n",
       "x59           -0.0009      0.000     -4.155      0.000      -0.001      -0.000\n",
       "x60           -0.0005      0.000     -2.358      0.018      -0.001   -8.57e-05\n",
       "x61            0.0035      0.000     15.562      0.000       0.003       0.004\n",
       "x62           -0.0004      0.000     -1.868      0.062      -0.001    1.98e-05\n",
       "==============================================================================\n",
       "Omnibus:                  1251867.306   Durbin-Watson:                   1.997\n",
       "Prob(Omnibus):                  0.000   Jarque-Bera (JB):         46008614.180\n",
       "Skew:                           5.447   Prob(JB):                         0.00\n",
       "Kurtosis:                      31.025   Cond. No.                     1.18e+16\n",
       "==============================================================================\n",
       "\n",
       "Notes:\n",
       "[1] Standard Errors are heteroscedasticity robust (HC0)\n",
       "[2] The smallest eigenvalue is 1.81e-14. This might indicate that there are\n",
       "strong multicollinearity problems or that the design matrix is singular.\n",
       "\"\"\""
      ]
     },
     "metadata": {},
     "output_type": "display_data"
    },
    {
     "name": "stdout",
     "output_type": "stream",
     "text": [
      "-----------------------------------------------------------------------------\n",
      "All RMSE score:   {0: 0.12345410439223918, 1: 0.11832400229556526, 2: 0.1126427008321152, 3: 0.13157326835440308, 4: 0.118335398990667}\n",
      "Max RMSE score:   0.13157326835440308 3\n",
      "Min RMSE score:   0.1126427008321152 2\n",
      "Average RMSE score:   0.12086589497299796\n"
     ]
    }
   ],
   "source": [
    "final_model, rmse_average = train_final_model(folds_X, folds_y)"
   ]
  },
  {
   "cell_type": "code",
   "execution_count": 18,
   "id": "fe4c3425",
   "metadata": {
    "execution": {
     "iopub.execute_input": "2024-05-14T11:29:04.471459Z",
     "iopub.status.busy": "2024-05-14T11:29:04.471028Z",
     "iopub.status.idle": "2024-05-14T11:29:04.792713Z",
     "shell.execute_reply": "2024-05-14T11:29:04.791445Z"
    },
    "papermill": {
     "duration": 0.335972,
     "end_time": "2024-05-14T11:29:04.795637",
     "exception": false,
     "start_time": "2024-05-14T11:29:04.459665",
     "status": "completed"
    },
    "tags": []
   },
   "outputs": [],
   "source": [
    "X = np.asarray(X)\n",
    "X_test = np.asarray(X_test)"
   ]
  },
  {
   "cell_type": "code",
   "execution_count": 19,
   "id": "3b3250b0",
   "metadata": {
    "execution": {
     "iopub.execute_input": "2024-05-14T11:29:04.818283Z",
     "iopub.status.busy": "2024-05-14T11:29:04.817793Z",
     "iopub.status.idle": "2024-05-14T11:29:16.604964Z",
     "shell.execute_reply": "2024-05-14T11:29:16.602903Z"
    },
    "papermill": {
     "duration": 11.802653,
     "end_time": "2024-05-14T11:29:16.608546",
     "exception": false,
     "start_time": "2024-05-14T11:29:04.805893",
     "status": "completed"
    },
    "tags": []
   },
   "outputs": [
    {
     "name": "stdout",
     "output_type": "stream",
     "text": [
      "RMSE 0.12072608383954016\n"
     ]
    }
   ],
   "source": [
    "model = train_model_statsmodels(X, y)\n",
    "\n",
    "X = sm.add_constant(X)\n",
    "y_pred = model.predict(X)\n",
    "rmse_score = mean_squared_error(np.log1p(y), np.log1p(y_pred), squared=False)\n",
    "print(\"RMSE\", rmse_score)"
   ]
  },
  {
   "cell_type": "code",
   "execution_count": 20,
   "id": "7ef5664b",
   "metadata": {
    "execution": {
     "iopub.execute_input": "2024-05-14T11:29:16.631250Z",
     "iopub.status.busy": "2024-05-14T11:29:16.630762Z",
     "iopub.status.idle": "2024-05-14T11:29:16.637535Z",
     "shell.execute_reply": "2024-05-14T11:29:16.636292Z"
    },
    "papermill": {
     "duration": 0.021443,
     "end_time": "2024-05-14T11:29:16.640137",
     "exception": false,
     "start_time": "2024-05-14T11:29:16.618694",
     "status": "completed"
    },
    "tags": []
   },
   "outputs": [],
   "source": [
    "X_test = sm.add_constant(X_test, has_constant='add')\n",
    "predicted_log_score = model.predict(X_test)\n",
    "predicted_score = np.expm1(predicted_log_score)"
   ]
  },
  {
   "cell_type": "code",
   "execution_count": 21,
   "id": "856fddb8",
   "metadata": {
    "execution": {
     "iopub.execute_input": "2024-05-14T11:29:16.664571Z",
     "iopub.status.busy": "2024-05-14T11:29:16.663680Z",
     "iopub.status.idle": "2024-05-14T11:29:16.676657Z",
     "shell.execute_reply": "2024-05-14T11:29:16.675445Z"
    },
    "papermill": {
     "duration": 0.029101,
     "end_time": "2024-05-14T11:29:16.679551",
     "exception": false,
     "start_time": "2024-05-14T11:29:16.650450",
     "status": "completed"
    },
    "tags": []
   },
   "outputs": [],
   "source": [
    "predicted_score_df = pd.DataFrame({\n",
    "    'case_id': test['case_id'].to_numpy(),\n",
    "    'score': predicted_score\n",
    "})\n",
    "predicted_score_df.to_csv('submission.csv', index=False)"
   ]
  },
  {
   "cell_type": "code",
   "execution_count": 22,
   "id": "4e39d071",
   "metadata": {
    "execution": {
     "iopub.execute_input": "2024-05-14T11:29:16.703221Z",
     "iopub.status.busy": "2024-05-14T11:29:16.702349Z",
     "iopub.status.idle": "2024-05-14T11:29:16.724671Z",
     "shell.execute_reply": "2024-05-14T11:29:16.723276Z"
    },
    "papermill": {
     "duration": 0.037678,
     "end_time": "2024-05-14T11:29:16.727324",
     "exception": false,
     "start_time": "2024-05-14T11:29:16.689646",
     "status": "completed"
    },
    "tags": []
   },
   "outputs": [
    {
     "data": {
      "text/html": [
       "<div>\n",
       "<style scoped>\n",
       "    .dataframe tbody tr th:only-of-type {\n",
       "        vertical-align: middle;\n",
       "    }\n",
       "\n",
       "    .dataframe tbody tr th {\n",
       "        vertical-align: top;\n",
       "    }\n",
       "\n",
       "    .dataframe thead th {\n",
       "        text-align: right;\n",
       "    }\n",
       "</style>\n",
       "<table border=\"1\" class=\"dataframe\">\n",
       "  <thead>\n",
       "    <tr style=\"text-align: right;\">\n",
       "      <th></th>\n",
       "      <th>case_id</th>\n",
       "      <th>score</th>\n",
       "    </tr>\n",
       "  </thead>\n",
       "  <tbody>\n",
       "    <tr>\n",
       "      <th>0</th>\n",
       "      <td>57543.0</td>\n",
       "      <td>0.027529</td>\n",
       "    </tr>\n",
       "    <tr>\n",
       "      <th>1</th>\n",
       "      <td>57549.0</td>\n",
       "      <td>0.054640</td>\n",
       "    </tr>\n",
       "    <tr>\n",
       "      <th>2</th>\n",
       "      <td>57551.0</td>\n",
       "      <td>0.011501</td>\n",
       "    </tr>\n",
       "    <tr>\n",
       "      <th>3</th>\n",
       "      <td>57552.0</td>\n",
       "      <td>0.048497</td>\n",
       "    </tr>\n",
       "    <tr>\n",
       "      <th>4</th>\n",
       "      <td>57569.0</td>\n",
       "      <td>0.019284</td>\n",
       "    </tr>\n",
       "    <tr>\n",
       "      <th>5</th>\n",
       "      <td>57630.0</td>\n",
       "      <td>0.042133</td>\n",
       "    </tr>\n",
       "    <tr>\n",
       "      <th>6</th>\n",
       "      <td>57631.0</td>\n",
       "      <td>0.026451</td>\n",
       "    </tr>\n",
       "    <tr>\n",
       "      <th>7</th>\n",
       "      <td>57632.0</td>\n",
       "      <td>-0.010984</td>\n",
       "    </tr>\n",
       "    <tr>\n",
       "      <th>8</th>\n",
       "      <td>57633.0</td>\n",
       "      <td>0.067623</td>\n",
       "    </tr>\n",
       "    <tr>\n",
       "      <th>9</th>\n",
       "      <td>57634.0</td>\n",
       "      <td>0.022384</td>\n",
       "    </tr>\n",
       "  </tbody>\n",
       "</table>\n",
       "</div>"
      ],
      "text/plain": [
       "   case_id     score\n",
       "0  57543.0  0.027529\n",
       "1  57549.0  0.054640\n",
       "2  57551.0  0.011501\n",
       "3  57552.0  0.048497\n",
       "4  57569.0  0.019284\n",
       "5  57630.0  0.042133\n",
       "6  57631.0  0.026451\n",
       "7  57632.0 -0.010984\n",
       "8  57633.0  0.067623\n",
       "9  57634.0  0.022384"
      ]
     },
     "execution_count": 22,
     "metadata": {},
     "output_type": "execute_result"
    }
   ],
   "source": [
    "predicted_score_df"
   ]
  }
 ],
 "metadata": {
  "kaggle": {
   "accelerator": "none",
   "dataSources": [
    {
     "databundleVersionId": 7921029,
     "sourceId": 50160,
     "sourceType": "competition"
    }
   ],
   "dockerImageVersionId": 30698,
   "isGpuEnabled": false,
   "isInternetEnabled": false,
   "language": "python",
   "sourceType": "notebook"
  },
  "kernelspec": {
   "display_name": "Python 3",
   "language": "python",
   "name": "python3"
  },
  "language_info": {
   "codemirror_mode": {
    "name": "ipython",
    "version": 3
   },
   "file_extension": ".py",
   "mimetype": "text/x-python",
   "name": "python",
   "nbconvert_exporter": "python",
   "pygments_lexer": "ipython3",
   "version": "3.10.13"
  },
  "papermill": {
   "default_parameters": {},
   "duration": 465.809255,
   "end_time": "2024-05-14T11:29:19.366336",
   "environment_variables": {},
   "exception": null,
   "input_path": "__notebook__.ipynb",
   "output_path": "__notebook__.ipynb",
   "parameters": {},
   "start_time": "2024-05-14T11:21:33.557081",
   "version": "2.5.0"
  }
 },
 "nbformat": 4,
 "nbformat_minor": 5
}
