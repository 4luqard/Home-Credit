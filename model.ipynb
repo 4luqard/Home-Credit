{
 "cells": [
  {
   "cell_type": "code",
   "execution_count": 1,
   "id": "8fb2ee23",
   "metadata": {
    "_cell_guid": "b1076dfc-b9ad-4769-8c92-a6c4dae69d19",
    "_uuid": "8f2839f25d086af736a60e9eeb907d3b93b6e0e5",
    "execution": {
     "iopub.execute_input": "2024-05-24T19:35:59.225127Z",
     "iopub.status.busy": "2024-05-24T19:35:59.224803Z",
     "iopub.status.idle": "2024-05-24T19:36:05.416087Z",
     "shell.execute_reply": "2024-05-24T19:36:05.415143Z"
    },
    "papermill": {
     "duration": 6.202318,
     "end_time": "2024-05-24T19:36:05.418459",
     "exception": false,
     "start_time": "2024-05-24T19:35:59.216141",
     "status": "completed"
    },
    "tags": []
   },
   "outputs": [
    {
     "name": "stderr",
     "output_type": "stream",
     "text": [
      "/opt/conda/lib/python3.10/site-packages/dask/dataframe/_pyarrow_compat.py:23: UserWarning: You are using pyarrow version 11.0.0 which is known to be insecure. See https://www.cve.org/CVERecord?id=CVE-2023-47248 for further details. Please upgrade to pyarrow>=14.0.1 or install pyarrow-hotfix to patch your current version.\n",
      "  warnings.warn(\n"
     ]
    }
   ],
   "source": [
    "import os\n",
    "import gc\n",
    "from glob import glob\n",
    "from pathlib import Path\n",
    "from datetime import datetime\n",
    "\n",
    "import numpy as np\n",
    "import pandas as pd\n",
    "import polars as pl\n",
    "\n",
    "import matplotlib.pyplot as plt\n",
    "import seaborn as sns\n",
    "\n",
    "from sklearn.model_selection import StratifiedGroupKFold\n",
    "from sklearn.base import BaseEstimator, ClassifierMixin\n",
    "\n",
    "import lightgbm as lgb\n",
    "\n",
    "import warnings\n",
    "def ignore_warn(*args, **kwargs):\n",
    "    pass\n",
    "warnings.warn = ignore_warn"
   ]
  },
  {
   "cell_type": "code",
   "execution_count": 2,
   "id": "bcd3d376",
   "metadata": {
    "execution": {
     "iopub.execute_input": "2024-05-24T19:36:05.433077Z",
     "iopub.status.busy": "2024-05-24T19:36:05.432811Z",
     "iopub.status.idle": "2024-05-24T19:36:05.439209Z",
     "shell.execute_reply": "2024-05-24T19:36:05.438383Z"
    },
    "papermill": {
     "duration": 0.015751,
     "end_time": "2024-05-24T19:36:05.441136",
     "exception": false,
     "start_time": "2024-05-24T19:36:05.425385",
     "status": "completed"
    },
    "tags": []
   },
   "outputs": [],
   "source": [
    "class VotingModel(BaseEstimator, ClassifierMixin):\n",
    "    def __init__(self, estimators):\n",
    "        super().__init__()\n",
    "        self.estimators = estimators\n",
    "        \n",
    "    def fit(self, X, y=None):\n",
    "        return self\n",
    "    \n",
    "    def predict(self, X):\n",
    "        y_preds = [estimator.predict(X) for estimator in self.estimators]\n",
    "        return np.mean(y_preds, axis=0)\n",
    "    \n",
    "    def predict_proba(self, X):\n",
    "        y_preds = [estimator.predict_proba(X) for estimator in self.estimators]\n",
    "        return np.mean(y_preds, axis=0)"
   ]
  },
  {
   "cell_type": "code",
   "execution_count": 3,
   "id": "5bb0a614",
   "metadata": {
    "execution": {
     "iopub.execute_input": "2024-05-24T19:36:05.455101Z",
     "iopub.status.busy": "2024-05-24T19:36:05.454830Z",
     "iopub.status.idle": "2024-05-24T19:36:05.467079Z",
     "shell.execute_reply": "2024-05-24T19:36:05.466256Z"
    },
    "papermill": {
     "duration": 0.021388,
     "end_time": "2024-05-24T19:36:05.468878",
     "exception": false,
     "start_time": "2024-05-24T19:36:05.447490",
     "status": "completed"
    },
    "tags": []
   },
   "outputs": [],
   "source": [
    "class Pipeline:\n",
    "    @staticmethod\n",
    "    def set_table_dtypes(df):\n",
    "        for col in df.columns:\n",
    "            if col in [\"case_id\", \"WEEK_NUM\", \"num_group1\", \"num_group2\"]:\n",
    "                df = df.with_columns(pl.col(col).cast(pl.Int32))\n",
    "            elif col in [\"date_decision\"]:\n",
    "                df = df.with_columns(pl.col(col).cast(pl.Date))\n",
    "            elif col[-1] in (\"P\", \"A\"):\n",
    "                df = df.with_columns(pl.col(col).cast(pl.Float64))\n",
    "            elif col[-1] in (\"M\",):\n",
    "                df = df.with_columns(pl.col(col).cast(pl.String))\n",
    "            elif col[-1] in (\"D\",):\n",
    "                df = df.with_columns(pl.col(col).cast(pl.Date))            \n",
    "\n",
    "        return df\n",
    "    \n",
    "    @staticmethod\n",
    "    def handle_dates(df):\n",
    "        for col in df.columns:\n",
    "            if col[-1] in (\"D\",):\n",
    "                df = df.with_columns(pl.col(col) - pl.col(\"date_decision\"))\n",
    "                df = df.with_columns(pl.col(col).dt.total_days())\n",
    "                df = df.with_columns(pl.col(col).cast(pl.Float32))\n",
    "                \n",
    "        df = df.drop(\"date_decision\", \"MONTH\")\n",
    "\n",
    "        return df\n",
    "    \n",
    "    @staticmethod\n",
    "    def filter_cols(df):\n",
    "        for col in df.columns:\n",
    "            if col not in [\"target\", \"case_id\", \"WEEK_NUM\"]:\n",
    "                isnull = df[col].is_null().mean()\n",
    "\n",
    "                if isnull > 0.95:\n",
    "                    df = df.drop(col)\n",
    "\n",
    "        for col in df.columns:\n",
    "            if (col not in [\"target\", \"case_id\", \"WEEK_NUM\"]) & (df[col].dtype == pl.String):\n",
    "                freq = df[col].n_unique()\n",
    "\n",
    "                if (freq == 1) | (freq > 200):\n",
    "                    df = df.drop(col)\n",
    "\n",
    "        return df"
   ]
  },
  {
   "cell_type": "code",
   "execution_count": 4,
   "id": "9bcc9b93",
   "metadata": {
    "execution": {
     "iopub.execute_input": "2024-05-24T19:36:05.482825Z",
     "iopub.status.busy": "2024-05-24T19:36:05.482350Z",
     "iopub.status.idle": "2024-05-24T19:36:05.492552Z",
     "shell.execute_reply": "2024-05-24T19:36:05.491752Z"
    },
    "papermill": {
     "duration": 0.018989,
     "end_time": "2024-05-24T19:36:05.494292",
     "exception": false,
     "start_time": "2024-05-24T19:36:05.475303",
     "status": "completed"
    },
    "tags": []
   },
   "outputs": [],
   "source": [
    "class Aggregator:\n",
    "    @staticmethod\n",
    "    def num_expr(df):\n",
    "        cols = [col for col in df.columns if col[-1] in (\"P\", \"A\")]\n",
    "\n",
    "        expr_max = [pl.max(col).alias(f\"max_{col}\") for col in cols]\n",
    "\n",
    "        return expr_max\n",
    "\n",
    "    @staticmethod\n",
    "    def date_expr(df):\n",
    "        cols = [col for col in df.columns if col[-1] in (\"D\",)]\n",
    "\n",
    "        expr_max = [pl.max(col).alias(f\"max_{col}\") for col in cols]\n",
    "\n",
    "        return expr_max\n",
    "\n",
    "    @staticmethod\n",
    "    def str_expr(df):\n",
    "        cols = [col for col in df.columns if col[-1] in (\"M\",)]\n",
    "        \n",
    "        expr_max = [pl.max(col).alias(f\"max_{col}\") for col in cols]\n",
    "\n",
    "        return expr_max\n",
    "\n",
    "    @staticmethod\n",
    "    def other_expr(df):\n",
    "        cols = [col for col in df.columns if col[-1] in (\"T\", \"L\")]\n",
    "        \n",
    "        expr_max = [pl.max(col).alias(f\"max_{col}\") for col in cols]\n",
    "\n",
    "        return expr_max\n",
    "    \n",
    "    @staticmethod\n",
    "    def count_expr(df):\n",
    "        cols = [col for col in df.columns if \"num_group\" in col]\n",
    "\n",
    "        expr_max = [pl.max(col).alias(f\"max_{col}\") for col in cols]\n",
    "\n",
    "        return expr_max\n",
    "\n",
    "    @staticmethod\n",
    "    def get_exprs(df):\n",
    "        exprs = Aggregator.num_expr(df) + \\\n",
    "                Aggregator.date_expr(df) + \\\n",
    "                Aggregator.str_expr(df) + \\\n",
    "                Aggregator.other_expr(df) + \\\n",
    "                Aggregator.count_expr(df)\n",
    "\n",
    "        return exprs"
   ]
  },
  {
   "cell_type": "code",
   "execution_count": 5,
   "id": "1c6a7a98",
   "metadata": {
    "execution": {
     "iopub.execute_input": "2024-05-24T19:36:05.508227Z",
     "iopub.status.busy": "2024-05-24T19:36:05.507638Z",
     "iopub.status.idle": "2024-05-24T19:36:05.514810Z",
     "shell.execute_reply": "2024-05-24T19:36:05.513988Z"
    },
    "papermill": {
     "duration": 0.016174,
     "end_time": "2024-05-24T19:36:05.516778",
     "exception": false,
     "start_time": "2024-05-24T19:36:05.500604",
     "status": "completed"
    },
    "tags": []
   },
   "outputs": [],
   "source": [
    "def read_file(path, depth=None):\n",
    "    df = pl.read_parquet(path)\n",
    "    df = df.pipe(Pipeline.set_table_dtypes)\n",
    "    \n",
    "    if depth in [1, 2]:\n",
    "        df = df.group_by(\"case_id\").agg(Aggregator.get_exprs(df))\n",
    "    \n",
    "    return df\n",
    "\n",
    "def read_files(regex_path, depth=None):\n",
    "    chunks = []\n",
    "    for path in glob(str(regex_path)):\n",
    "        df = pl.read_parquet(path)\n",
    "        df = df.pipe(Pipeline.set_table_dtypes)\n",
    "        \n",
    "        if depth in [1, 2]:\n",
    "            df = df.group_by(\"case_id\").agg(Aggregator.get_exprs(df))\n",
    "        \n",
    "        chunks.append(df)\n",
    "        \n",
    "    df = pl.concat(chunks, how=\"vertical_relaxed\")\n",
    "    df = df.unique(subset=[\"case_id\"])\n",
    "    \n",
    "    return df"
   ]
  },
  {
   "cell_type": "code",
   "execution_count": 6,
   "id": "651be62a",
   "metadata": {
    "execution": {
     "iopub.execute_input": "2024-05-24T19:36:05.530993Z",
     "iopub.status.busy": "2024-05-24T19:36:05.530455Z",
     "iopub.status.idle": "2024-05-24T19:36:05.535938Z",
     "shell.execute_reply": "2024-05-24T19:36:05.535140Z"
    },
    "papermill": {
     "duration": 0.014357,
     "end_time": "2024-05-24T19:36:05.537731",
     "exception": false,
     "start_time": "2024-05-24T19:36:05.523374",
     "status": "completed"
    },
    "tags": []
   },
   "outputs": [],
   "source": [
    "def feature_eng(df_base, depth_0, depth_1, depth_2):\n",
    "    df_base = (\n",
    "        df_base\n",
    "        .with_columns(\n",
    "            month_decision = pl.col(\"date_decision\").dt.month(),\n",
    "            weekday_decision = pl.col(\"date_decision\").dt.weekday(),\n",
    "        )\n",
    "    )\n",
    "        \n",
    "    for i, df in enumerate(depth_0 + depth_1 + depth_2):\n",
    "        df_base = df_base.join(df, how=\"left\", on=\"case_id\", suffix=f\"_{i}\")\n",
    "        \n",
    "    df_base = df_base.pipe(Pipeline.handle_dates)\n",
    "    \n",
    "    return df_base"
   ]
  },
  {
   "cell_type": "code",
   "execution_count": 7,
   "id": "2713632f",
   "metadata": {
    "execution": {
     "iopub.execute_input": "2024-05-24T19:36:05.552660Z",
     "iopub.status.busy": "2024-05-24T19:36:05.552132Z",
     "iopub.status.idle": "2024-05-24T19:36:05.556822Z",
     "shell.execute_reply": "2024-05-24T19:36:05.556023Z"
    },
    "papermill": {
     "duration": 0.01452,
     "end_time": "2024-05-24T19:36:05.558616",
     "exception": false,
     "start_time": "2024-05-24T19:36:05.544096",
     "status": "completed"
    },
    "tags": []
   },
   "outputs": [],
   "source": [
    "def to_pandas(df_data, cat_cols=None):\n",
    "    df_data = df_data.to_pandas()\n",
    "    \n",
    "    if cat_cols is None:\n",
    "        cat_cols = list(df_data.select_dtypes(\"object\").columns)\n",
    "    \n",
    "    df_data[cat_cols] = df_data[cat_cols].astype(\"category\")\n",
    "    \n",
    "    return df_data, cat_cols"
   ]
  },
  {
   "cell_type": "code",
   "execution_count": 8,
   "id": "05129754",
   "metadata": {
    "execution": {
     "iopub.execute_input": "2024-05-24T19:36:05.572119Z",
     "iopub.status.busy": "2024-05-24T19:36:05.571884Z",
     "iopub.status.idle": "2024-05-24T19:36:05.576011Z",
     "shell.execute_reply": "2024-05-24T19:36:05.575111Z"
    },
    "papermill": {
     "duration": 0.013268,
     "end_time": "2024-05-24T19:36:05.578146",
     "exception": false,
     "start_time": "2024-05-24T19:36:05.564878",
     "status": "completed"
    },
    "tags": []
   },
   "outputs": [],
   "source": [
    "ROOT            = Path(\"/kaggle/input/home-credit-credit-risk-model-stability\")\n",
    "TRAIN_DIR       = ROOT / \"parquet_files\" / \"train\"\n",
    "TEST_DIR        = ROOT / \"parquet_files\" / \"test\""
   ]
  },
  {
   "cell_type": "code",
   "execution_count": 9,
   "id": "0657a93b",
   "metadata": {
    "execution": {
     "iopub.execute_input": "2024-05-24T19:36:05.592143Z",
     "iopub.status.busy": "2024-05-24T19:36:05.591697Z",
     "iopub.status.idle": "2024-05-24T19:38:14.313453Z",
     "shell.execute_reply": "2024-05-24T19:38:14.312578Z"
    },
    "papermill": {
     "duration": 128.7315,
     "end_time": "2024-05-24T19:38:14.315942",
     "exception": false,
     "start_time": "2024-05-24T19:36:05.584442",
     "status": "completed"
    },
    "tags": []
   },
   "outputs": [],
   "source": [
    "data_store = {\n",
    "    \"df_base\": read_file(TRAIN_DIR / \"train_base.parquet\"),\n",
    "    \"depth_0\": [\n",
    "        read_file(TRAIN_DIR / \"train_static_cb_0.parquet\"),\n",
    "        read_files(TRAIN_DIR / \"train_static_0_*.parquet\"),\n",
    "    ],\n",
    "    \"depth_1\": [\n",
    "        read_files(TRAIN_DIR / \"train_applprev_1_*.parquet\", 1),\n",
    "        read_file(TRAIN_DIR / \"train_tax_registry_a_1.parquet\", 1),\n",
    "        read_file(TRAIN_DIR / \"train_tax_registry_b_1.parquet\", 1),\n",
    "        read_file(TRAIN_DIR / \"train_tax_registry_c_1.parquet\", 1),\n",
    "        read_files(TRAIN_DIR / \"train_credit_bureau_a_1_*.parquet\", 1),\n",
    "        read_file(TRAIN_DIR / \"train_credit_bureau_b_1.parquet\", 1),\n",
    "        read_file(TRAIN_DIR / \"train_other_1.parquet\", 1),\n",
    "        read_file(TRAIN_DIR / \"train_person_1.parquet\", 1),\n",
    "        read_file(TRAIN_DIR / \"train_deposit_1.parquet\", 1),\n",
    "        read_file(TRAIN_DIR / \"train_debitcard_1.parquet\", 1),\n",
    "    ],\n",
    "    \"depth_2\": [\n",
    "        read_file(TRAIN_DIR / \"train_credit_bureau_b_2.parquet\", 2),\n",
    "        read_files(TRAIN_DIR / \"train_credit_bureau_a_2_*.parquet\", 2),\n",
    "    ]\n",
    "}"
   ]
  },
  {
   "cell_type": "code",
   "execution_count": 10,
   "id": "8eb0dfcf",
   "metadata": {
    "execution": {
     "iopub.execute_input": "2024-05-24T19:38:14.331184Z",
     "iopub.status.busy": "2024-05-24T19:38:14.330444Z",
     "iopub.status.idle": "2024-05-24T19:38:27.433597Z",
     "shell.execute_reply": "2024-05-24T19:38:27.432666Z"
    },
    "papermill": {
     "duration": 13.11286,
     "end_time": "2024-05-24T19:38:27.435739",
     "exception": false,
     "start_time": "2024-05-24T19:38:14.322879",
     "status": "completed"
    },
    "tags": []
   },
   "outputs": [
    {
     "name": "stdout",
     "output_type": "stream",
     "text": [
      "train data shape:\t (1526659, 472)\n"
     ]
    }
   ],
   "source": [
    "df_train = feature_eng(**data_store)\n",
    "\n",
    "print(\"train data shape:\\t\", df_train.shape)"
   ]
  },
  {
   "cell_type": "code",
   "execution_count": 11,
   "id": "da7b097d",
   "metadata": {
    "execution": {
     "iopub.execute_input": "2024-05-24T19:38:27.450633Z",
     "iopub.status.busy": "2024-05-24T19:38:27.449971Z",
     "iopub.status.idle": "2024-05-24T19:38:28.060312Z",
     "shell.execute_reply": "2024-05-24T19:38:28.059515Z"
    },
    "papermill": {
     "duration": 0.620509,
     "end_time": "2024-05-24T19:38:28.062920",
     "exception": false,
     "start_time": "2024-05-24T19:38:27.442411",
     "status": "completed"
    },
    "tags": []
   },
   "outputs": [],
   "source": [
    "data_store = {\n",
    "    \"df_base\": read_file(TEST_DIR / \"test_base.parquet\"),\n",
    "    \"depth_0\": [\n",
    "        read_file(TEST_DIR / \"test_static_cb_0.parquet\"),\n",
    "        read_files(TEST_DIR / \"test_static_0_*.parquet\"),\n",
    "    ],\n",
    "    \"depth_1\": [\n",
    "        read_files(TEST_DIR / \"test_applprev_1_*.parquet\", 1),\n",
    "        read_file(TEST_DIR / \"test_tax_registry_a_1.parquet\", 1),\n",
    "        read_file(TEST_DIR / \"test_tax_registry_b_1.parquet\", 1),\n",
    "        read_file(TEST_DIR / \"test_tax_registry_c_1.parquet\", 1),\n",
    "        read_files(TEST_DIR / \"test_credit_bureau_a_1_*.parquet\", 1),\n",
    "        read_file(TEST_DIR / \"test_credit_bureau_b_1.parquet\", 1),\n",
    "        read_file(TEST_DIR / \"test_other_1.parquet\", 1),\n",
    "        read_file(TEST_DIR / \"test_person_1.parquet\", 1),\n",
    "        read_file(TEST_DIR / \"test_deposit_1.parquet\", 1),\n",
    "        read_file(TEST_DIR / \"test_debitcard_1.parquet\", 1),\n",
    "    ],\n",
    "    \"depth_2\": [\n",
    "        read_file(TEST_DIR / \"test_credit_bureau_b_2.parquet\", 2),\n",
    "        read_files(TEST_DIR / \"test_credit_bureau_a_2_*.parquet\", 2),\n",
    "    ]\n",
    "}"
   ]
  },
  {
   "cell_type": "code",
   "execution_count": 12,
   "id": "7ea5ec4a",
   "metadata": {
    "execution": {
     "iopub.execute_input": "2024-05-24T19:38:28.078266Z",
     "iopub.status.busy": "2024-05-24T19:38:28.077837Z",
     "iopub.status.idle": "2024-05-24T19:38:28.121652Z",
     "shell.execute_reply": "2024-05-24T19:38:28.120455Z"
    },
    "papermill": {
     "duration": 0.053765,
     "end_time": "2024-05-24T19:38:28.123818",
     "exception": false,
     "start_time": "2024-05-24T19:38:28.070053",
     "status": "completed"
    },
    "tags": []
   },
   "outputs": [
    {
     "name": "stdout",
     "output_type": "stream",
     "text": [
      "test data shape:\t (10, 471)\n"
     ]
    }
   ],
   "source": [
    "df_test = feature_eng(**data_store)\n",
    "\n",
    "print(\"test data shape:\\t\", df_test.shape)"
   ]
  },
  {
   "cell_type": "code",
   "execution_count": 13,
   "id": "e5b9c4a4",
   "metadata": {
    "execution": {
     "iopub.execute_input": "2024-05-24T19:38:28.138666Z",
     "iopub.status.busy": "2024-05-24T19:38:28.138318Z",
     "iopub.status.idle": "2024-05-24T19:38:30.888071Z",
     "shell.execute_reply": "2024-05-24T19:38:30.887178Z"
    },
    "papermill": {
     "duration": 2.75968,
     "end_time": "2024-05-24T19:38:30.890332",
     "exception": false,
     "start_time": "2024-05-24T19:38:28.130652",
     "status": "completed"
    },
    "tags": []
   },
   "outputs": [
    {
     "name": "stdout",
     "output_type": "stream",
     "text": [
      "train data shape:\t (1526659, 361)\n",
      "test data shape:\t (10, 360)\n"
     ]
    }
   ],
   "source": [
    "df_train = df_train.pipe(Pipeline.filter_cols)\n",
    "df_test = df_test.select([col for col in df_train.columns if col != \"target\"])\n",
    "\n",
    "print(\"train data shape:\\t\", df_train.shape)\n",
    "print(\"test data shape:\\t\", df_test.shape)"
   ]
  },
  {
   "cell_type": "code",
   "execution_count": 14,
   "id": "94e42e63",
   "metadata": {
    "execution": {
     "iopub.execute_input": "2024-05-24T19:38:30.905690Z",
     "iopub.status.busy": "2024-05-24T19:38:30.905076Z",
     "iopub.status.idle": "2024-05-24T19:38:49.848774Z",
     "shell.execute_reply": "2024-05-24T19:38:49.847978Z"
    },
    "papermill": {
     "duration": 18.953682,
     "end_time": "2024-05-24T19:38:49.851085",
     "exception": false,
     "start_time": "2024-05-24T19:38:30.897403",
     "status": "completed"
    },
    "tags": []
   },
   "outputs": [],
   "source": [
    "df_train, cat_cols = to_pandas(df_train)\n",
    "df_test, cat_cols = to_pandas(df_test, cat_cols)"
   ]
  },
  {
   "cell_type": "code",
   "execution_count": 15,
   "id": "db769694",
   "metadata": {
    "execution": {
     "iopub.execute_input": "2024-05-24T19:38:49.866678Z",
     "iopub.status.busy": "2024-05-24T19:38:49.865926Z",
     "iopub.status.idle": "2024-05-24T19:38:50.004261Z",
     "shell.execute_reply": "2024-05-24T19:38:50.003392Z"
    },
    "papermill": {
     "duration": 0.148112,
     "end_time": "2024-05-24T19:38:50.006257",
     "exception": false,
     "start_time": "2024-05-24T19:38:49.858145",
     "status": "completed"
    },
    "tags": []
   },
   "outputs": [
    {
     "data": {
      "text/plain": [
       "0"
      ]
     },
     "execution_count": 15,
     "metadata": {},
     "output_type": "execute_result"
    }
   ],
   "source": [
    "del data_store\n",
    "\n",
    "gc.collect()"
   ]
  },
  {
   "cell_type": "code",
   "execution_count": 16,
   "id": "9ec5b7fc",
   "metadata": {
    "execution": {
     "iopub.execute_input": "2024-05-24T19:38:50.021839Z",
     "iopub.status.busy": "2024-05-24T19:38:50.021261Z",
     "iopub.status.idle": "2024-05-24T19:38:50.048600Z",
     "shell.execute_reply": "2024-05-24T19:38:50.047553Z"
    },
    "papermill": {
     "duration": 0.037144,
     "end_time": "2024-05-24T19:38:50.050609",
     "exception": false,
     "start_time": "2024-05-24T19:38:50.013465",
     "status": "completed"
    },
    "tags": []
   },
   "outputs": [
    {
     "name": "stdout",
     "output_type": "stream",
     "text": [
      "Train is duplicated:\t False\n",
      "Train Week Range:\t (0, 91)\n",
      "\n",
      "Test is duplicated:\t False\n",
      "Test Week Range:\t (100, 100)\n"
     ]
    }
   ],
   "source": [
    "print(\"Train is duplicated:\\t\", df_train[\"case_id\"].duplicated().any())\n",
    "print(\"Train Week Range:\\t\", (df_train[\"WEEK_NUM\"].min(), df_train[\"WEEK_NUM\"].max()))\n",
    "\n",
    "print()\n",
    "\n",
    "print(\"Test is duplicated:\\t\", df_test[\"case_id\"].duplicated().any())\n",
    "print(\"Test Week Range:\\t\", (df_test[\"WEEK_NUM\"].min(), df_test[\"WEEK_NUM\"].max()))"
   ]
  },
  {
   "cell_type": "code",
   "execution_count": 17,
   "id": "90604481",
   "metadata": {
    "execution": {
     "iopub.execute_input": "2024-05-24T19:38:50.065994Z",
     "iopub.status.busy": "2024-05-24T19:38:50.065450Z",
     "iopub.status.idle": "2024-05-24T19:39:07.066269Z",
     "shell.execute_reply": "2024-05-24T19:39:07.065394Z"
    },
    "papermill": {
     "duration": 17.01118,
     "end_time": "2024-05-24T19:39:07.068867",
     "exception": false,
     "start_time": "2024-05-24T19:38:50.057687",
     "status": "completed"
    },
    "tags": []
   },
   "outputs": [
    {
     "data": {
      "image/png": "[encoded data removed]",
      "text/plain": [
       "<Figure size 640x480 with 1 Axes>"
      ]
     },
     "metadata": {},
     "output_type": "display_data"
    }
   ],
   "source": [
    "sns.lineplot(\n",
    "    data=df_train,\n",
    "    x=\"WEEK_NUM\",\n",
    "    y=\"target\",\n",
    ")\n",
    "plt.show()"
   ]
  },
  {
   "cell_type": "code",
   "execution_count": 18,
   "id": "f2b8f1d3",
   "metadata": {
    "execution": {
     "iopub.execute_input": "2024-05-24T19:39:07.086323Z",
     "iopub.status.busy": "2024-05-24T19:39:07.086011Z",
     "iopub.status.idle": "2024-05-24T19:49:43.087481Z",
     "shell.execute_reply": "2024-05-24T19:49:43.086559Z"
    },
    "papermill": {
     "duration": 636.012565,
     "end_time": "2024-05-24T19:49:43.089714",
     "exception": false,
     "start_time": "2024-05-24T19:39:07.077149",
     "status": "completed"
    },
    "tags": []
   },
   "outputs": [
    {
     "name": "stderr",
     "output_type": "stream",
     "text": [
      "1 warning generated.\n",
      "1 warning generated.\n",
      "1 warning generated.\n",
      "1 warning generated.\n",
      "1 warning generated.\n",
      "1 warning generated.\n",
      "1 warning generated.\n",
      "1 warning generated.\n",
      "1 warning generated.\n",
      "1 warning generated.\n",
      "1 warning generated.\n",
      "1 warning generated.\n",
      "1 warning generated.\n",
      "1 warning generated.\n",
      "1 warning generated.\n",
      "1 warning generated.\n",
      "1 warning generated.\n",
      "1 warning generated.\n",
      "1 warning generated.\n",
      "1 warning generated.\n",
      "1 warning generated.\n",
      "1 warning generated.\n",
      "1 warning generated.\n",
      "1 warning generated.\n",
      "1 warning generated.\n",
      "1 warning generated.\n",
      "1 warning generated.\n",
      "1 warning generated.\n",
      "1 warning generated.\n",
      "1 warning generated.\n",
      "1 warning generated.\n",
      "1 warning generated.\n",
      "1 warning generated.\n"
     ]
    },
    {
     "name": "stdout",
     "output_type": "stream",
     "text": [
      "Training until validation scores don't improve for 100 rounds\n",
      "[100]\tvalid_0's auc: 0.844627\n",
      "[200]\tvalid_0's auc: 0.849014\n",
      "[300]\tvalid_0's auc: 0.849511\n",
      "[400]\tvalid_0's auc: 0.849546\n",
      "Early stopping, best iteration is:\n",
      "[334]\tvalid_0's auc: 0.849697\n",
      "Training until validation scores don't improve for 100 rounds\n",
      "[100]\tvalid_0's auc: 0.845839\n",
      "[200]\tvalid_0's auc: 0.849581\n",
      "[300]\tvalid_0's auc: 0.850248\n",
      "[400]\tvalid_0's auc: 0.850263\n",
      "[500]\tvalid_0's auc: 0.850274\n",
      "Early stopping, best iteration is:\n",
      "[463]\tvalid_0's auc: 0.85046\n",
      "Training until validation scores don't improve for 100 rounds\n",
      "[100]\tvalid_0's auc: 0.850905\n",
      "[200]\tvalid_0's auc: 0.855194\n",
      "[300]\tvalid_0's auc: 0.856456\n",
      "[400]\tvalid_0's auc: 0.857015\n",
      "[500]\tvalid_0's auc: 0.857369\n",
      "[600]\tvalid_0's auc: 0.857578\n",
      "[700]\tvalid_0's auc: 0.857677\n",
      "Early stopping, best iteration is:\n",
      "[648]\tvalid_0's auc: 0.85779\n",
      "Training until validation scores don't improve for 100 rounds\n",
      "[100]\tvalid_0's auc: 0.850412\n",
      "[200]\tvalid_0's auc: 0.854615\n",
      "[300]\tvalid_0's auc: 0.855773\n",
      "[400]\tvalid_0's auc: 0.855694\n",
      "Early stopping, best iteration is:\n",
      "[310]\tvalid_0's auc: 0.855827\n",
      "Training until validation scores don't improve for 100 rounds\n",
      "[100]\tvalid_0's auc: 0.846262\n",
      "[200]\tvalid_0's auc: 0.851026\n",
      "[300]\tvalid_0's auc: 0.851902\n",
      "[400]\tvalid_0's auc: 0.85249\n",
      "[500]\tvalid_0's auc: 0.852568\n",
      "[600]\tvalid_0's auc: 0.852619\n",
      "Early stopping, best iteration is:\n",
      "[555]\tvalid_0's auc: 0.852793\n"
     ]
    }
   ],
   "source": [
    "X = df_train.drop(columns=[\"target\", \"case_id\", \"WEEK_NUM\"])\n",
    "y = df_train[\"target\"]\n",
    "weeks = df_train[\"WEEK_NUM\"]\n",
    "\n",
    "cv = StratifiedGroupKFold(n_splits=5, shuffle=False) # n = 5\n",
    "\n",
    "params = {\n",
    "    \"boosting_type\": \"gbdt\",\n",
    "    \"objective\": \"binary\",\n",
    "    \"metric\": \"auc\",\n",
    "    \"max_depth\": 8,\n",
    "    \"learning_rate\": 0.1,\n",
    "    \"n_estimators\": 1000, # 1000\n",
    "    \"colsample_bytree\": 0.8, \n",
    "    \"colsample_bynode\": 0.8,\n",
    "    \"verbose\": -1,\n",
    "    \"random_state\": 13,\n",
    "    \"device\": \"gpu\",\n",
    "}\n",
    "\n",
    "fitted_models = []\n",
    "\n",
    "for idx_train, idx_valid in cv.split(X, y, groups=weeks):\n",
    "    X_train, y_train = X.iloc[idx_train], y.iloc[idx_train]\n",
    "    X_valid, y_valid = X.iloc[idx_valid], y.iloc[idx_valid]\n",
    "\n",
    "    model = lgb.LGBMClassifier(**params)\n",
    "    model.fit(\n",
    "        X_train, y_train,\n",
    "        eval_set=[(X_valid, y_valid)],\n",
    "        callbacks=[lgb.log_evaluation(100), lgb.early_stopping(100)]\n",
    "    )\n",
    "\n",
    "    fitted_models.append(model)\n",
    "\n",
    "model = VotingModel(fitted_models)"
   ]
  },
  {
   "cell_type": "code",
   "execution_count": 19,
   "id": "b319de26",
   "metadata": {
    "execution": {
     "iopub.execute_input": "2024-05-24T19:49:43.115071Z",
     "iopub.status.busy": "2024-05-24T19:49:43.114675Z",
     "iopub.status.idle": "2024-05-24T19:49:43.383382Z",
     "shell.execute_reply": "2024-05-24T19:49:43.382553Z"
    },
    "papermill": {
     "duration": 0.283847,
     "end_time": "2024-05-24T19:49:43.385782",
     "exception": false,
     "start_time": "2024-05-24T19:49:43.101935",
     "status": "completed"
    },
    "tags": []
   },
   "outputs": [],
   "source": [
    "X_test = df_test.drop(columns=[\"WEEK_NUM\"])\n",
    "X_test = X_test.set_index(\"case_id\")\n",
    "\n",
    "y_pred = pd.Series(model.predict_proba(X_test)[:, 1], index=X_test.index)"
   ]
  },
  {
   "cell_type": "code",
   "execution_count": 20,
   "id": "b95fbdb9",
   "metadata": {
    "execution": {
     "iopub.execute_input": "2024-05-24T19:49:43.410677Z",
     "iopub.status.busy": "2024-05-24T19:49:43.410176Z",
     "iopub.status.idle": "2024-05-24T19:49:43.423275Z",
     "shell.execute_reply": "2024-05-24T19:49:43.422541Z"
    },
    "papermill": {
     "duration": 0.027459,
     "end_time": "2024-05-24T19:49:43.425277",
     "exception": false,
     "start_time": "2024-05-24T19:49:43.397818",
     "status": "completed"
    },
    "tags": []
   },
   "outputs": [],
   "source": [
    "df_subm = pd.read_csv(ROOT / \"sample_submission.csv\")\n",
    "df_subm = df_subm.set_index(\"case_id\")\n",
    "\n",
    "df_subm[\"score\"] = y_pred"
   ]
  },
  {
   "cell_type": "code",
   "execution_count": 21,
   "id": "ce266967",
   "metadata": {
    "execution": {
     "iopub.execute_input": "2024-05-24T19:49:43.450181Z",
     "iopub.status.busy": "2024-05-24T19:49:43.449911Z",
     "iopub.status.idle": "2024-05-24T19:49:43.462949Z",
     "shell.execute_reply": "2024-05-24T19:49:43.461939Z"
    },
    "papermill": {
     "duration": 0.027483,
     "end_time": "2024-05-24T19:49:43.464860",
     "exception": false,
     "start_time": "2024-05-24T19:49:43.437377",
     "status": "completed"
    },
    "tags": []
   },
   "outputs": [
    {
     "name": "stdout",
     "output_type": "stream",
     "text": [
      "Check null:  False\n"
     ]
    },
    {
     "data": {
      "text/html": [
       "<div>\n",
       "<style scoped>\n",
       "    .dataframe tbody tr th:only-of-type {\n",
       "        vertical-align: middle;\n",
       "    }\n",
       "\n",
       "    .dataframe tbody tr th {\n",
       "        vertical-align: top;\n",
       "    }\n",
       "\n",
       "    .dataframe thead th {\n",
       "        text-align: right;\n",
       "    }\n",
       "</style>\n",
       "<table border=\"1\" class=\"dataframe\">\n",
       "  <thead>\n",
       "    <tr style=\"text-align: right;\">\n",
       "      <th></th>\n",
       "      <th>score</th>\n",
       "    </tr>\n",
       "    <tr>\n",
       "      <th>case_id</th>\n",
       "      <th></th>\n",
       "    </tr>\n",
       "  </thead>\n",
       "  <tbody>\n",
       "    <tr>\n",
       "      <th>57543</th>\n",
       "      <td>0.005762</td>\n",
       "    </tr>\n",
       "    <tr>\n",
       "      <th>57549</th>\n",
       "      <td>0.050295</td>\n",
       "    </tr>\n",
       "    <tr>\n",
       "      <th>57551</th>\n",
       "      <td>0.006140</td>\n",
       "    </tr>\n",
       "    <tr>\n",
       "      <th>57552</th>\n",
       "      <td>0.015815</td>\n",
       "    </tr>\n",
       "    <tr>\n",
       "      <th>57569</th>\n",
       "      <td>0.126269</td>\n",
       "    </tr>\n",
       "    <tr>\n",
       "      <th>57630</th>\n",
       "      <td>0.009034</td>\n",
       "    </tr>\n",
       "    <tr>\n",
       "      <th>57631</th>\n",
       "      <td>0.084817</td>\n",
       "    </tr>\n",
       "    <tr>\n",
       "      <th>57632</th>\n",
       "      <td>0.044550</td>\n",
       "    </tr>\n",
       "    <tr>\n",
       "      <th>57633</th>\n",
       "      <td>0.097318</td>\n",
       "    </tr>\n",
       "    <tr>\n",
       "      <th>57634</th>\n",
       "      <td>0.031062</td>\n",
       "    </tr>\n",
       "  </tbody>\n",
       "</table>\n",
       "</div>"
      ],
      "text/plain": [
       "            score\n",
       "case_id          \n",
       "57543    0.005762\n",
       "57549    0.050295\n",
       "57551    0.006140\n",
       "57552    0.015815\n",
       "57569    0.126269\n",
       "57630    0.009034\n",
       "57631    0.084817\n",
       "57632    0.044550\n",
       "57633    0.097318\n",
       "57634    0.031062"
      ]
     },
     "execution_count": 21,
     "metadata": {},
     "output_type": "execute_result"
    }
   ],
   "source": [
    "print(\"Check null: \", df_subm[\"score\"].isnull().any())\n",
    "\n",
    "df_subm"
   ]
  },
  {
   "cell_type": "code",
   "execution_count": 22,
   "id": "3f01ddce",
   "metadata": {
    "execution": {
     "iopub.execute_input": "2024-05-24T19:49:43.490085Z",
     "iopub.status.busy": "2024-05-24T19:49:43.489412Z",
     "iopub.status.idle": "2024-05-24T19:49:43.496232Z",
     "shell.execute_reply": "2024-05-24T19:49:43.495039Z"
    },
    "papermill": {
     "duration": 0.022309,
     "end_time": "2024-05-24T19:49:43.499135",
     "exception": false,
     "start_time": "2024-05-24T19:49:43.476826",
     "status": "completed"
    },
    "tags": []
   },
   "outputs": [],
   "source": [
    "df_subm.to_csv(\"submission.csv\")"
   ]
  }
 ],
 "metadata": {
  "kaggle": {
   "accelerator": "gpu",
   "dataSources": [
    {
     "databundleVersionId": 7921029,
     "sourceId": 50160,
     "sourceType": "competition"
    }
   ],
   "dockerImageVersionId": 30648,
   "isGpuEnabled": true,
   "isInternetEnabled": false,
   "language": "python",
   "sourceType": "notebook"
  },
  "kernelspec": {
   "display_name": "Python 3",
   "language": "python",
   "name": "python3"
  },
  "language_info": {
   "codemirror_mode": {
    "name": "ipython",
    "version": 3
   },
   "file_extension": ".py",
   "mimetype": "text/x-python",
   "name": "python",
   "nbconvert_exporter": "python",
   "pygments_lexer": "ipython3",
   "version": "3.10.13"
  },
  "papermill": {
   "default_parameters": {},
   "duration": 828.204616,
   "end_time": "2024-05-24T19:49:44.636097",
   "environment_variables": {},
   "exception": null,
   "input_path": "__notebook__.ipynb",
   "output_path": "__notebook__.ipynb",
   "parameters": {},
   "start_time": "2024-05-24T19:35:56.431481",
   "version": "2.5.0"
  }
 },
 "nbformat": 4,
 "nbformat_minor": 5
}
